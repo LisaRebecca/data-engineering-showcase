{
 "cells": [
  {
   "cell_type": "markdown",
   "metadata": {},
   "source": [
    "# Feasibility Assessment"
   ]
  },
  {
   "cell_type": "code",
   "execution_count": 1,
   "metadata": {},
   "outputs": [
    {
     "name": "stdout",
     "output_type": "stream",
     "text": [
      "/Users/lisaschmidt/Documents/GitHub/data-engineering-showcase\n"
     ]
    }
   ],
   "source": [
    "%cd .."
   ]
  },
  {
   "cell_type": "code",
   "execution_count": 2,
   "metadata": {},
   "outputs": [],
   "source": [
    "import pandas as pd\n",
    "import numpy as np\n",
    "import sqlite3\n",
    "import matplotlib.pyplot as plt"
   ]
  },
  {
   "cell_type": "code",
   "execution_count": 3,
   "metadata": {},
   "outputs": [
    {
     "data": {
      "text/html": [
       "<div>\n",
       "<style scoped>\n",
       "    .dataframe tbody tr th:only-of-type {\n",
       "        vertical-align: middle;\n",
       "    }\n",
       "\n",
       "    .dataframe tbody tr th {\n",
       "        vertical-align: top;\n",
       "    }\n",
       "\n",
       "    .dataframe thead th {\n",
       "        text-align: right;\n",
       "    }\n",
       "</style>\n",
       "<table border=\"1\" class=\"dataframe\">\n",
       "  <thead>\n",
       "    <tr style=\"text-align: right;\">\n",
       "      <th></th>\n",
       "      <th>start</th>\n",
       "      <th>end</th>\n",
       "      <th>transport_type</th>\n",
       "      <th>route</th>\n",
       "      <th>duration</th>\n",
       "      <th>driving_distance</th>\n",
       "    </tr>\n",
       "  </thead>\n",
       "  <tbody>\n",
       "    <tr>\n",
       "      <th>0</th>\n",
       "      <td>Bremerhaven</td>\n",
       "      <td>Marl</td>\n",
       "      <td>car</td>\n",
       "      <td>LINESTRING(8.586580000000001 53.55175000000000...</td>\n",
       "      <td>152</td>\n",
       "      <td>288.831379</td>\n",
       "    </tr>\n",
       "    <tr>\n",
       "      <th>1</th>\n",
       "      <td>Bremerhaven</td>\n",
       "      <td>Marl</td>\n",
       "      <td>train</td>\n",
       "      <td>None</td>\n",
       "      <td>320</td>\n",
       "      <td>NaN</td>\n",
       "    </tr>\n",
       "    <tr>\n",
       "      <th>2</th>\n",
       "      <td>Bremerhaven</td>\n",
       "      <td>Marl</td>\n",
       "      <td>train</td>\n",
       "      <td>None</td>\n",
       "      <td>385</td>\n",
       "      <td>NaN</td>\n",
       "    </tr>\n",
       "    <tr>\n",
       "      <th>3</th>\n",
       "      <td>Bremerhaven</td>\n",
       "      <td>Marl</td>\n",
       "      <td>train</td>\n",
       "      <td>None</td>\n",
       "      <td>322</td>\n",
       "      <td>NaN</td>\n",
       "    </tr>\n",
       "    <tr>\n",
       "      <th>4</th>\n",
       "      <td>Dortmund</td>\n",
       "      <td>Karlsruhe</td>\n",
       "      <td>car</td>\n",
       "      <td>LINESTRING(7.46417 51.51505, 7.461770000000000...</td>\n",
       "      <td>200</td>\n",
       "      <td>355.366236</td>\n",
       "    </tr>\n",
       "    <tr>\n",
       "      <th>...</th>\n",
       "      <td>...</td>\n",
       "      <td>...</td>\n",
       "      <td>...</td>\n",
       "      <td>...</td>\n",
       "      <td>...</td>\n",
       "      <td>...</td>\n",
       "    </tr>\n",
       "    <tr>\n",
       "      <th>40510</th>\n",
       "      <td>Chemnitz</td>\n",
       "      <td>Osnabrück</td>\n",
       "      <td>train</td>\n",
       "      <td>None</td>\n",
       "      <td>320</td>\n",
       "      <td>NaN</td>\n",
       "    </tr>\n",
       "    <tr>\n",
       "      <th>40511</th>\n",
       "      <td>Halle (Saale)</td>\n",
       "      <td>Bielefeld</td>\n",
       "      <td>car</td>\n",
       "      <td>LINESTRING(11.970030000000001 51.4824400000000...</td>\n",
       "      <td>180</td>\n",
       "      <td>344.566496</td>\n",
       "    </tr>\n",
       "    <tr>\n",
       "      <th>40512</th>\n",
       "      <td>Halle (Saale)</td>\n",
       "      <td>Bielefeld</td>\n",
       "      <td>train</td>\n",
       "      <td>None</td>\n",
       "      <td>231</td>\n",
       "      <td>NaN</td>\n",
       "    </tr>\n",
       "    <tr>\n",
       "      <th>40513</th>\n",
       "      <td>Halle (Saale)</td>\n",
       "      <td>Bielefeld</td>\n",
       "      <td>train</td>\n",
       "      <td>None</td>\n",
       "      <td>192</td>\n",
       "      <td>NaN</td>\n",
       "    </tr>\n",
       "    <tr>\n",
       "      <th>40514</th>\n",
       "      <td>Halle (Saale)</td>\n",
       "      <td>Bielefeld</td>\n",
       "      <td>train</td>\n",
       "      <td>None</td>\n",
       "      <td>195</td>\n",
       "      <td>NaN</td>\n",
       "    </tr>\n",
       "  </tbody>\n",
       "</table>\n",
       "<p>40515 rows × 6 columns</p>\n",
       "</div>"
      ],
      "text/plain": [
       "               start        end transport_type  \\\n",
       "0        Bremerhaven       Marl            car   \n",
       "1        Bremerhaven       Marl          train   \n",
       "2        Bremerhaven       Marl          train   \n",
       "3        Bremerhaven       Marl          train   \n",
       "4           Dortmund  Karlsruhe            car   \n",
       "...              ...        ...            ...   \n",
       "40510       Chemnitz  Osnabrück          train   \n",
       "40511  Halle (Saale)  Bielefeld            car   \n",
       "40512  Halle (Saale)  Bielefeld          train   \n",
       "40513  Halle (Saale)  Bielefeld          train   \n",
       "40514  Halle (Saale)  Bielefeld          train   \n",
       "\n",
       "                                                   route  duration  \\\n",
       "0      LINESTRING(8.586580000000001 53.55175000000000...       152   \n",
       "1                                                   None       320   \n",
       "2                                                   None       385   \n",
       "3                                                   None       322   \n",
       "4      LINESTRING(7.46417 51.51505, 7.461770000000000...       200   \n",
       "...                                                  ...       ...   \n",
       "40510                                               None       320   \n",
       "40511  LINESTRING(11.970030000000001 51.4824400000000...       180   \n",
       "40512                                               None       231   \n",
       "40513                                               None       192   \n",
       "40514                                               None       195   \n",
       "\n",
       "       driving_distance  \n",
       "0            288.831379  \n",
       "1                   NaN  \n",
       "2                   NaN  \n",
       "3                   NaN  \n",
       "4            355.366236  \n",
       "...                 ...  \n",
       "40510               NaN  \n",
       "40511        344.566496  \n",
       "40512               NaN  \n",
       "40513               NaN  \n",
       "40514               NaN  \n",
       "\n",
       "[40515 rows x 6 columns]"
      ]
     },
     "execution_count": 3,
     "metadata": {},
     "output_type": "execute_result"
    }
   ],
   "source": [
    "cnx = sqlite3.connect('data/connections.sqlite')\n",
    "df_connections = pd.read_sql_query(\"SELECT * FROM connections\", cnx)\n",
    "df_connections"
   ]
  },
  {
   "cell_type": "code",
   "execution_count": 4,
   "metadata": {},
   "outputs": [
    {
     "name": "stderr",
     "output_type": "stream",
     "text": [
      "/var/folders/9l/2lhc2hnd6px5hd0bxlsy1rh80000gn/T/ipykernel_56141/585231601.py:1: UserWarning: Boolean Series key will be reindexed to match DataFrame index.\n",
      "  route_ER_NUE = df_connections[df_connections.start == \"Erlangen\"][df_connections.end == \"Nürnberg\"]\n"
     ]
    },
    {
     "data": {
      "text/html": [
       "<div>\n",
       "<style scoped>\n",
       "    .dataframe tbody tr th:only-of-type {\n",
       "        vertical-align: middle;\n",
       "    }\n",
       "\n",
       "    .dataframe tbody tr th {\n",
       "        vertical-align: top;\n",
       "    }\n",
       "\n",
       "    .dataframe thead th {\n",
       "        text-align: right;\n",
       "    }\n",
       "</style>\n",
       "<table border=\"1\" class=\"dataframe\">\n",
       "  <thead>\n",
       "    <tr style=\"text-align: right;\">\n",
       "      <th></th>\n",
       "      <th>start</th>\n",
       "      <th>end</th>\n",
       "      <th>transport_type</th>\n",
       "      <th>route</th>\n",
       "      <th>duration</th>\n",
       "      <th>driving_distance</th>\n",
       "    </tr>\n",
       "  </thead>\n",
       "  <tbody>\n",
       "    <tr>\n",
       "      <th>21561</th>\n",
       "      <td>Erlangen</td>\n",
       "      <td>Nürnberg</td>\n",
       "      <td>car</td>\n",
       "      <td>LINESTRING(11.003060000000001 49.5980900000000...</td>\n",
       "      <td>23</td>\n",
       "      <td>24.085094</td>\n",
       "    </tr>\n",
       "    <tr>\n",
       "      <th>21562</th>\n",
       "      <td>Erlangen</td>\n",
       "      <td>Nürnberg</td>\n",
       "      <td>train</td>\n",
       "      <td>None</td>\n",
       "      <td>16</td>\n",
       "      <td>NaN</td>\n",
       "    </tr>\n",
       "    <tr>\n",
       "      <th>21563</th>\n",
       "      <td>Erlangen</td>\n",
       "      <td>Nürnberg</td>\n",
       "      <td>train</td>\n",
       "      <td>None</td>\n",
       "      <td>27</td>\n",
       "      <td>NaN</td>\n",
       "    </tr>\n",
       "    <tr>\n",
       "      <th>21564</th>\n",
       "      <td>Erlangen</td>\n",
       "      <td>Nürnberg</td>\n",
       "      <td>train</td>\n",
       "      <td>None</td>\n",
       "      <td>19</td>\n",
       "      <td>NaN</td>\n",
       "    </tr>\n",
       "  </tbody>\n",
       "</table>\n",
       "</div>"
      ],
      "text/plain": [
       "          start       end transport_type  \\\n",
       "21561  Erlangen  Nürnberg            car   \n",
       "21562  Erlangen  Nürnberg          train   \n",
       "21563  Erlangen  Nürnberg          train   \n",
       "21564  Erlangen  Nürnberg          train   \n",
       "\n",
       "                                                   route  duration  \\\n",
       "21561  LINESTRING(11.003060000000001 49.5980900000000...        23   \n",
       "21562                                               None        16   \n",
       "21563                                               None        27   \n",
       "21564                                               None        19   \n",
       "\n",
       "       driving_distance  \n",
       "21561         24.085094  \n",
       "21562               NaN  \n",
       "21563               NaN  \n",
       "21564               NaN  "
      ]
     },
     "execution_count": 4,
     "metadata": {},
     "output_type": "execute_result"
    }
   ],
   "source": [
    "route_ER_NUE = df_connections[df_connections.start == \"Erlangen\"][df_connections.end == \"Nürnberg\"]\n",
    "route_ER_NUE"
   ]
  },
  {
   "cell_type": "code",
   "execution_count": 5,
   "metadata": {},
   "outputs": [
    {
     "data": {
      "text/plain": [
       "23"
      ]
     },
     "execution_count": 5,
     "metadata": {},
     "output_type": "execute_result"
    }
   ],
   "source": [
    "fastest_car_trip = route_ER_NUE[route_ER_NUE.transport_type == \"car\"].sort_values(by=\"duration\", ascending=True)\n",
    "car_duration = fastest_car_trip.iloc[0].duration\n",
    "car_duration"
   ]
  },
  {
   "cell_type": "code",
   "execution_count": 6,
   "metadata": {},
   "outputs": [
    {
     "data": {
      "text/plain": [
       "16"
      ]
     },
     "execution_count": 6,
     "metadata": {},
     "output_type": "execute_result"
    }
   ],
   "source": [
    "fastest_train_trip = route_ER_NUE[route_ER_NUE.transport_type == \"train\"].sort_values(by=\"duration\", ascending=True)\n",
    "train_duration = fastest_train_trip.iloc[0].duration\n",
    "train_duration"
   ]
  },
  {
   "cell_type": "code",
   "execution_count": 7,
   "metadata": {},
   "outputs": [
    {
     "name": "stdout",
     "output_type": "stream",
     "text": [
      "A trip from Erlangen to Nuremberg is -30.43 % faster by car. Meaning the trip by train is siginificantly shorter.\n"
     ]
    }
   ],
   "source": [
    "print(f\"A trip from Erlangen to Nuremberg is {round((train_duration - car_duration)/car_duration*100, 2)} % faster by car. Meaning the trip by train is siginificantly shorter.\")"
   ]
  }
 ],
 "metadata": {
  "kernelspec": {
   "display_name": "venv",
   "language": "python",
   "name": "python3"
  },
  "language_info": {
   "codemirror_mode": {
    "name": "ipython",
    "version": 3
   },
   "file_extension": ".py",
   "mimetype": "text/x-python",
   "name": "python",
   "nbconvert_exporter": "python",
   "pygments_lexer": "ipython3",
   "version": "3.11.0"
  }
 },
 "nbformat": 4,
 "nbformat_minor": 2
}
