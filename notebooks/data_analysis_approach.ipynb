{
 "cells": [
  {
   "cell_type": "markdown",
   "metadata": {},
   "source": [
    "# Plan: Data Analysis"
   ]
  },
  {
   "cell_type": "markdown",
   "metadata": {},
   "source": [
    "Let us remind ourselves of the main question:\n",
    "\n",
    "Which routes between German cities are the fastest by car (in comparison to travel by train) and should be electrified for a \"quick win\" (compared to new train tracks) in climate action?"
   ]
  },
  {
   "cell_type": "markdown",
   "metadata": {},
   "source": [
    "## Step 1: Identifying the per-Route Deviation in Travel Time between Car and Train"
   ]
  },
  {
   "cell_type": "markdown",
   "metadata": {},
   "source": [
    "For this, we need to compare trips by car with trips by train.\n",
    "\n",
    "A proposal for an algorithm computing this comparison in pseudocode:\n",
    "\n",
    "```\n",
    "for each pair (start|destination) in dataset:\n",
    "    identify fastest trip by car\n",
    "    identify fastest trip by train\n",
    "    compute deviation in %\n",
    "```"
   ]
  },
  {
   "cell_type": "markdown",
   "metadata": {},
   "source": [
    "## Step 2: Measure \"electrifiedness\" of Routes\n",
    "\n",
    "A charger is considered \"reasonably reachable\" when it is within 500m distance to the route.\n",
    "\n",
    "A charger is considered \"on the route\" when it is within 100m distance to the route (comparable to a highway petrol station)\n",
    "\n",
    "Metrics:\n",
    "#### 1. Charger Density\n",
    "Number of chargers per km of route.\n",
    "#### 2. Average Distance to Next Charger\n",
    "Average km to the next reachable charger.\n",
    "#### 3. Coverage of Route by Chargers\n",
    "Share of route within specified distance to a charger."
   ]
  },
  {
   "cell_type": "markdown",
   "metadata": {},
   "source": [
    "## Step 3: Answer initial Questions using the Results\n",
    "Explain and interpret the results then extract insights and make recommendations."
   ]
  }
 ],
 "metadata": {
  "language_info": {
   "name": "python"
  }
 },
 "nbformat": 4,
 "nbformat_minor": 2
}
