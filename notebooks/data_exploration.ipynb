{
 "cells": [
  {
   "cell_type": "code",
   "execution_count": 1,
   "metadata": {},
   "outputs": [
    {
     "name": "stdout",
     "output_type": "stream",
     "text": [
      "/Users/lisaschmidt/Documents/GitHub/data-engineering-showcase\n"
     ]
    }
   ],
   "source": [
    "%cd .."
   ]
  },
  {
   "cell_type": "code",
   "execution_count": 2,
   "metadata": {},
   "outputs": [
    {
     "name": "stdout",
     "output_type": "stream",
     "text": [
      "/Users/lisaschmidt/Documents/GitHub/data-engineering-showcase\n"
     ]
    }
   ],
   "source": [
    "%cd /Users/lisaschmidt/Documents/GitHub/data-engineering-showcase"
   ]
  },
  {
   "cell_type": "markdown",
   "metadata": {},
   "source": [
    "# Dataset 1"
   ]
  },
  {
   "cell_type": "markdown",
   "metadata": {},
   "source": [
    "### Downloading data"
   ]
  },
  {
   "cell_type": "code",
   "execution_count": 10,
   "metadata": {},
   "outputs": [],
   "source": [
    "from urllib.request import urlretrieve"
   ]
  },
  {
   "cell_type": "code",
   "execution_count": 11,
   "metadata": {},
   "outputs": [],
   "source": [
    "url = (\"https://mobilithek.info/mdp-api/files/aux/573356838940979200/moin-2022-05-02.1-20220502.131229-1.ttl.bz2\")\n",
    "filename = \"city_connections.ttl.bz2\""
   ]
  },
  {
   "cell_type": "code",
   "execution_count": 12,
   "metadata": {},
   "outputs": [
    {
     "data": {
      "text/plain": [
       "('city_connections.ttl.bz2', <http.client.HTTPMessage at 0x10c64e3d0>)"
      ]
     },
     "execution_count": 12,
     "metadata": {},
     "output_type": "execute_result"
    }
   ],
   "source": [
    "urlretrieve(url, filename)"
   ]
  },
  {
   "cell_type": "code",
   "execution_count": 13,
   "metadata": {},
   "outputs": [],
   "source": [
    "import bz2"
   ]
  },
  {
   "cell_type": "code",
   "execution_count": 14,
   "metadata": {},
   "outputs": [
    {
     "data": {
      "text/plain": [
       "167540483"
      ]
     },
     "execution_count": 14,
     "metadata": {},
     "output_type": "execute_result"
    }
   ],
   "source": [
    "zipfile = bz2.BZ2File(filename) # open the file\n",
    "data = zipfile.read() # get the decompressed data\n",
    "newfilepath = filename[:-4] # assuming the filepath ends with .bz2\n",
    "open(newfilepath, 'wb').write(data) # write a uncompressed file"
   ]
  },
  {
   "cell_type": "code",
   "execution_count": 15,
   "metadata": {
    "collapsed": true,
    "pycharm": {
     "is_executing": true
    }
   },
   "outputs": [],
   "source": [
    "import pyoxigraph as graph\n",
    "import pandas as pd"
   ]
  },
  {
   "cell_type": "code",
   "execution_count": 16,
   "metadata": {
    "collapsed": false
   },
   "outputs": [],
   "source": [
    "l = list(graph.parse(newfilepath, \"text/turtle\", base_iri=\"http://example.com/\"))"
   ]
  },
  {
   "cell_type": "markdown",
   "metadata": {},
   "source": [
    "### An Overview of the Data Structure"
   ]
  },
  {
   "cell_type": "code",
   "execution_count": 17,
   "metadata": {},
   "outputs": [
    {
     "name": "stdout",
     "output_type": "stream",
     "text": [
      "<http://moin-project.org/data/Bremerhaven> <http://moin-project.org/ontology/connectedTo> <http://moin-project.org/data/Marl> <http://moin-project.org/ontology/hasTrip> _:b03efbe9650ea62787776fa20cb4760f\n",
      "_:b03efbe9650ea62787776fa20cb4760f <http://moin-project.org/ontology/transportType> <http://moin-project.org/ontology/train>\n",
      "_:b03efbe9650ea62787776fa20cb4760f <http://moin-project.org/ontology/startTime> \"10:42:00\"^^<http://www.w3.org/2001/XMLSchema#time>\n",
      "_:b03efbe9650ea62787776fa20cb4760f <http://moin-project.org/ontology/endTime> \"16:02:00\"^^<http://www.w3.org/2001/XMLSchema#time>\n",
      "_:b03efbe9650ea62787776fa20cb4760f <http://moin-project.org/ontology/duration> \"PT320M\"^^<http://www.w3.org/2001/XMLSchema#duration>\n",
      "<http://moin-project.org/data/Bremerhaven> <http://moin-project.org/ontology/connectedTo> <http://moin-project.org/data/Marl> <http://moin-project.org/ontology/hasTrip> _:b8600e2631160ecfda276fd8dc63698b\n",
      "_:b8600e2631160ecfda276fd8dc63698b <http://moin-project.org/ontology/transportType> <http://moin-project.org/ontology/train>\n",
      "_:b8600e2631160ecfda276fd8dc63698b <http://moin-project.org/ontology/startTime> \"10:42:00\"^^<http://www.w3.org/2001/XMLSchema#time>\n",
      "_:b8600e2631160ecfda276fd8dc63698b <http://moin-project.org/ontology/endTime> \"17:07:00\"^^<http://www.w3.org/2001/XMLSchema#time>\n",
      "_:b8600e2631160ecfda276fd8dc63698b <http://moin-project.org/ontology/duration> \"PT385M\"^^<http://www.w3.org/2001/XMLSchema#duration>\n"
     ]
    }
   ],
   "source": [
    "for t in l[5:15]:\n",
    "    print( t.subject, t.predicate, t.object)"
   ]
  },
  {
   "cell_type": "markdown",
   "metadata": {},
   "source": [
    "This graph has different types of triples that are useful to us:\n",
    "\n",
    "1. A triple which describes that two cities are connected by a trip:\n",
    "\n",
    "    ```<http://moin-project.org/data/Bremerhaven> <http://moin-project.org/ontology/connectedTo> <http://moin-project.org/data/Marl> <http://moin-project.org/ontology/hasTrip> _:77af2dc5c57b5384d50fd429a6ae23e4```\n",
    "    \n",
    "    Notable is here that the subject `<http://moin-project.org/data/Bremerhaven> <http://moin-project.org/ontology/connectedTo> <http://moin-project.org/data/Marl>` is a triple itself. This \"city-connection\" is then uniquely identified through `hasTrip` to an identifier `_:77af2dc5c57b5384d50fd429a6ae23e4`.\n",
    "\n",
    "2. A triple which describes the properties of a trip (ex. transport type, travel time or distance):\n",
    "\n",
    "    ```_:77af2dc5c57b5384d50fd429a6ae23e4 <http://moin-project.org/ontology/transportType> <http://moin-project.org/ontology/train>```"
   ]
  },
  {
   "cell_type": "code",
   "execution_count": 6,
   "metadata": {},
   "outputs": [
    {
     "data": {
      "text/plain": [
       "<Triple subject=<NamedNode value=http://moin-project.org/data/Bremerhaven> predicate=<NamedNode value=http://moin-project.org/ontology/connectedTo> object=<NamedNode value=http://moin-project.org/data/Marl>>"
      ]
     },
     "execution_count": 6,
     "metadata": {},
     "output_type": "execute_result"
    }
   ],
   "source": [
    "# a connection between two cities\n",
    "l[0].subject"
   ]
  },
  {
   "cell_type": "code",
   "execution_count": 7,
   "metadata": {},
   "outputs": [
    {
     "data": {
      "text/plain": [
       "<Triple subject=<Triple subject=<NamedNode value=http://moin-project.org/data/Bremerhaven> predicate=<NamedNode value=http://moin-project.org/ontology/connectedTo> object=<NamedNode value=http://moin-project.org/data/Marl>> predicate=<NamedNode value=http://moin-project.org/ontology/hasTrip> object=<BlankNode value=efe3ea1fdf24bf4991ed685c632596bb>>"
      ]
     },
     "execution_count": 7,
     "metadata": {},
     "output_type": "execute_result"
    }
   ],
   "source": [
    "# an example of a triple which states a connection between two cities and then uniquely names them.\n",
    "l[0]"
   ]
  },
  {
   "cell_type": "code",
   "execution_count": 8,
   "metadata": {},
   "outputs": [
    {
     "name": "stdout",
     "output_type": "stream",
     "text": [
      "There are  215136  triples in the database.\n"
     ]
    }
   ],
   "source": [
    "print(\"There are \", len(l), \" triples in the database.\")"
   ]
  },
  {
   "cell_type": "code",
   "execution_count": 9,
   "metadata": {},
   "outputs": [
    {
     "name": "stdout",
     "output_type": "stream",
     "text": [
      "0 <http://moin-project.org/data/Bremerhaven> <http://moin-project.org/ontology/connectedTo> <http://moin-project.org/data/Marl>\n",
      "1 _:efe3ea1fdf24bf4991ed685c632596bb\n",
      "2 _:efe3ea1fdf24bf4991ed685c632596bb\n",
      "3 _:efe3ea1fdf24bf4991ed685c632596bb\n",
      "4 _:efe3ea1fdf24bf4991ed685c632596bb\n",
      "5 <http://moin-project.org/data/Bremerhaven> <http://moin-project.org/ontology/connectedTo> <http://moin-project.org/data/Marl>\n",
      "6 _:b46bf39bba0d7689b9b9f928de67bd21\n",
      "7 _:b46bf39bba0d7689b9b9f928de67bd21\n",
      "8 _:b46bf39bba0d7689b9b9f928de67bd21\n",
      "9 _:b46bf39bba0d7689b9b9f928de67bd21\n",
      "10 <http://moin-project.org/data/Bremerhaven> <http://moin-project.org/ontology/connectedTo> <http://moin-project.org/data/Marl>\n",
      "11 _:5fbb45c6dd306cf40e36840736a0290\n",
      "12 _:5fbb45c6dd306cf40e36840736a0290\n",
      "13 _:5fbb45c6dd306cf40e36840736a0290\n",
      "14 _:5fbb45c6dd306cf40e36840736a0290\n",
      "15 <http://moin-project.org/data/Bremerhaven> <http://moin-project.org/ontology/connectedTo> <http://moin-project.org/data/Marl>\n",
      "16 _:5dcf820dd3623d4a7faecafe21ad8906\n",
      "17 _:5dcf820dd3623d4a7faecafe21ad8906\n",
      "18 _:5dcf820dd3623d4a7faecafe21ad8906\n",
      "19 _:5dcf820dd3623d4a7faecafe21ad8906\n"
     ]
    }
   ],
   "source": [
    "connections = [t.subject for t in l]\n",
    "for i in range(20):\n",
    "    print(i, connections[i])"
   ]
  },
  {
   "cell_type": "markdown",
   "metadata": {},
   "source": [
    "We can see above that there are different options to travel between Bremerhaven and Marl. In this project, we want to compare these different travel option with a special interest in comparing travel by car to travel by train."
   ]
  },
  {
   "cell_type": "markdown",
   "metadata": {},
   "source": [
    "### Overview on the Contents of the Data"
   ]
  },
  {
   "cell_type": "code",
   "execution_count": 10,
   "metadata": {},
   "outputs": [
    {
     "data": {
      "text/plain": [
       "<http://moin-project.org/ontology/duration>               40515\n",
       "<http://moin-project.org/ontology/hasTrip>                40515\n",
       "<http://moin-project.org/ontology/transportType>          40515\n",
       "<http://moin-project.org/ontology/startTime>              30524\n",
       "<http://moin-project.org/ontology/endTime>                30461\n",
       "<http://moin-project.org/ontology/connectedTo>            10159\n",
       "<http://moin-project.org/ontology/route>                   9991\n",
       "<http://moin-project.org/ontology/drivingDistance>         9991\n",
       "<http://www.w3.org/1999/02/22-rdf-syntax-ns#type>           420\n",
       "<http://www.w3.org/2000/01/rdf-schema#label>                233\n",
       "<http://www.wikidata.org/prop/direct/P625>                  226\n",
       "<http://www.wikidata.org/prop/direct/P17>                   117\n",
       "<http://www.wikidata.org/prop/direct/P31>                   117\n",
       "<http://www.wikidata.org/prop/direct/P239>                  117\n",
       "<http://www.opengis.net/ont/geosparql#asWKT>                103\n",
       "<http://www.opengis.net/ont/geosparql#defaultGeometry>      103\n",
       "<http://www.wikidata.org/prop/direct/P94>                   102\n",
       "<http://www.wikidata.org/prop/direct/P131>                  100\n",
       "<http://www.w3.org/2002/07/owl#sameAs>                      100\n",
       "<http://schema.org/about>                                   100\n",
       "<http://www.w3.org/2000/01/rdf-schema#comment>              100\n",
       "<http://www.wikidata.org/prop/direct/P1082>                  99\n",
       "<http://www.wikidata.org/prop/direct/P856>                   99\n",
       "<http://www.wikidata.org/prop/direct/P2046>                  98\n",
       "<http://moin-project.org/ontology/nearestAirport>            95\n",
       "<http://www.wikidata.org/prop/direct/P41>                    93\n",
       "<http://www.wikidata.org/prop/direct/P238>                   43\n",
       "Name: count, dtype: int64"
      ]
     },
     "execution_count": 10,
     "metadata": {},
     "output_type": "execute_result"
    }
   ],
   "source": [
    "predicates = [t.predicate for t in l]\n",
    "pd.DataFrame(predicates).value_counts()"
   ]
  },
  {
   "cell_type": "markdown",
   "metadata": {},
   "source": [
    "The most interesting predicates for this project are the `moin-project` predicates:\n",
    "- duration\n",
    "- hasTrip\n",
    "- transportType\n",
    "- connectedTo\n",
    "- route\n",
    "\n",
    "The other `moin-project` predicates (startTime, endTime, drivingDistance, nearestAirport) are currently not relevant."
   ]
  },
  {
   "cell_type": "markdown",
   "metadata": {},
   "source": [
    "But there are other predicates, which we also should investigate. For example, the `wikidata` predicates:"
   ]
  },
  {
   "cell_type": "markdown",
   "metadata": {},
   "source": [
    "- P625 = Coordinate Information\n",
    "- P15 = country\n",
    "- P31 = instance of\n",
    "- P239 ICAO Airport Code\n",
    "- P94 = Coat of arms image\n",
    "- P131 = located in the administrative territorial entity\n",
    "- P1082 = Population\n",
    "- P856 = official website\n",
    "- P2046 = area\n",
    "- P41 = flag image\n",
    "- P238 = IATA Airport Code"
   ]
  },
  {
   "cell_type": "markdown",
   "metadata": {},
   "source": [
    "##### Now let's take a look at the remaining predicates:"
   ]
  },
  {
   "cell_type": "markdown",
   "metadata": {},
   "source": [
    "- <http://www.w3.org/1999/02/22-rdf-syntax-ns#type> \n",
    "- <http://www.w3.org/2000/01/rdf-schema#label>   \n",
    "- <http://www.w3.org/2002/07/owl#sameAs>\n",
    "- <http://www.w3.org/2000/01/rdf-schema#comment>\n",
    "\n",
    "\n",
    "- <http://schema.org/about>\n",
    "\n",
    "\n",
    "- <http://www.opengis.net/ont/geosparql#asWKT>            \n",
    "- <http://www.opengis.net/ont/geosparql#defaultGeometry>  "
   ]
  },
  {
   "cell_type": "code",
   "execution_count": 11,
   "metadata": {},
   "outputs": [],
   "source": [
    "from pyoxigraph import Store"
   ]
  },
  {
   "cell_type": "code",
   "execution_count": 12,
   "metadata": {},
   "outputs": [],
   "source": [
    "store = Store()\n",
    "store.load('./data/moin-2022-05-02.1-20220502.131229-1.ttl', mime_type=\"text/turtle\")"
   ]
  },
  {
   "cell_type": "code",
   "execution_count": 53,
   "metadata": {},
   "outputs": [],
   "source": [
    "PREDICATE = \"http://www.opengis.net/ont/geosparql#defaultGeometry\"\n",
    "\n",
    "result = store.query(\"SELECT ?s ?o WHERE { ?s <\"+PREDICATE+\"> ?o}\")"
   ]
  },
  {
   "cell_type": "code",
   "execution_count": 54,
   "metadata": {},
   "outputs": [
    {
     "data": {
      "text/plain": [
       "[<QuerySolution s=<NamedNode value=http://moin-project.org/data/Bonn> o=<BlankNode value=178d5895dd965984742aceab83deffb>>,\n",
       " <QuerySolution s=<NamedNode value=http://moin-project.org/data/Hanau> o=<BlankNode value=2940e5c922713208c279eeb70e08011>>,\n",
       " <QuerySolution s=<NamedNode value=http://moin-project.org/data/Gelsenkirchen> o=<BlankNode value=2973a0274bb3c7580447c0395ccf5f0>>,\n",
       " <QuerySolution s=<NamedNode value=http://moin-project.org/data/Braunschweig> o=<BlankNode value=2b04f868e9e89d5a875c00c63f65852>>,\n",
       " <QuerySolution s=<NamedNode value=http://moin-project.org/data/Ludwigsburg> o=<BlankNode value=3570c5b7c56ec43b68050933d6c1d21>>,\n",
       " <QuerySolution s=<NamedNode value=http://moin-project.org/data/Heilbronn> o=<BlankNode value=48ffed53900dba8101f63ef7448a065>>,\n",
       " <QuerySolution s=<NamedNode value=http://moin-project.org/data/Recklinghausen> o=<BlankNode value=4a60fd556596b23b3e08d764a4a2cad>>,\n",
       " <QuerySolution s=<NamedNode value=http://moin-project.org/data/Dessau-Ro%C3%9Flau> o=<BlankNode value=4f4d16cbf93f68e387b7ba958cad1ec>>,\n",
       " <QuerySolution s=<NamedNode value=http://moin-project.org/data/Hannover> o=<BlankNode value=817d411816a0aeb5600ccf6e5283eae>>,\n",
       " <QuerySolution s=<NamedNode value=http://moin-project.org/data/Mannheim> o=<BlankNode value=d9ed5cf7f9ec9a5f06c0b4a819e7a63>>]"
      ]
     },
     "execution_count": 54,
     "metadata": {},
     "output_type": "execute_result"
    }
   ],
   "source": [
    "[s for s in result][:10]"
   ]
  },
  {
   "cell_type": "markdown",
   "metadata": {},
   "source": [
    "- <http://www.w3.org/1999/02/22-rdf-syntax-ns#type>     \n",
    "    The type of an object, for example if it is an Airport\n",
    "- <http://www.w3.org/2000/01/rdf-schema#label>   \n",
    "    This predicate relates an IRI to a literal, for example the IRI of a city to the city's name.\n",
    "- <http://www.w3.org/2002/07/owl#sameAs>    \n",
    "    The different IRIs of the same object are related through this predicate.\n",
    "- <http://www.w3.org/2000/01/rdf-schema#comment>    \n",
    "    The comment field contains a short description of different cities.\n",
    "- <http://schema.org/about>      \n",
    "    This relation links a city's wikipedia article to the IRI.\n",
    "- <http://www.opengis.net/ont/geosparql#asWKT>      \n",
    "    The WKT-Literal contains the coordinates of an object.        \n",
    "- <http://www.opengis.net/ont/geosparql#defaultGeometry>    \n",
    "    This predicate connects a city's IRI to an object (see above)."
   ]
  },
  {
   "cell_type": "markdown",
   "metadata": {},
   "source": [
    "## A Plan for bringing the Data into the desired Format"
   ]
  },
  {
   "cell_type": "markdown",
   "metadata": {},
   "source": [
    "### Requirements:\n",
    "- One Table with all **trips as primary key**\n",
    "- Columns: \n",
    "    - duration\n",
    "    - hasTrip\n",
    "    - transportType\n",
    "    - connectedTo\n",
    "    - route"
   ]
  },
  {
   "cell_type": "markdown",
   "metadata": {},
   "source": [
    "### Approach\n",
    "[ ] Read all trips into a structure and match them with start IRI and destination IRI\n",
    "\n",
    "[ ] Find all trip properties by the trip IRI and write them to the trips  \n",
    "\n",
    "[ ] Find the labels of start and end destination and replace IRIs with labels \n",
    "\n",
    "[ ] "
   ]
  },
  {
   "cell_type": "code",
   "execution_count": null,
   "metadata": {},
   "outputs": [],
   "source": []
  },
  {
   "cell_type": "markdown",
   "metadata": {},
   "source": [
    "## Data Transformations"
   ]
  },
  {
   "cell_type": "code",
   "execution_count": 15,
   "metadata": {},
   "outputs": [
    {
     "data": {
      "text/plain": [
       "pyoxigraph.NamedNode"
      ]
     },
     "execution_count": 15,
     "metadata": {},
     "output_type": "execute_result"
    }
   ],
   "source": [
    "type(l[0].subject.predicate)"
   ]
  },
  {
   "cell_type": "code",
   "execution_count": 16,
   "metadata": {},
   "outputs": [],
   "source": [
    "connected_to = graph.NamedNode(\"http://moin-project.org/ontology/connectedTo\")\n",
    "has_trip = graph.NamedNode(\"http://moin-project.org/ontology/hasTrip\")"
   ]
  },
  {
   "cell_type": "code",
   "execution_count": 72,
   "metadata": {},
   "outputs": [],
   "source": [
    "#PREDICATE = \"http://moin-project.org/ontology/connectedTo\"\n",
    "PREDICATE = \"http://moin-project.org/ontology/hasTrip\"\n",
    "\n",
    "result = store.query(\"SELECT ?s ?o WHERE { ?s <\"+PREDICATE+\"> ?o}\")"
   ]
  },
  {
   "cell_type": "markdown",
   "metadata": {},
   "source": [
    "#### (1) Read all trips into a structure and match them with start IRI and destination IRI"
   ]
  },
  {
   "cell_type": "code",
   "execution_count": 165,
   "metadata": {},
   "outputs": [],
   "source": [
    "connections = {}\n",
    "for triple in l:\n",
    "    try:\n",
    "        subject, predicate, object = triple.subject, triple.predicate, triple.object\n",
    "        if predicate == has_trip: #subject.predicate == connected_to and \n",
    "            trip_from = subject.subject\n",
    "            trip_to = subject.object\n",
    "            trip_id = triple.object\n",
    "            connections[trip_id.value] = {\n",
    "                \"iri_start\": str(trip_from.value),\n",
    "                \"iri_end\": str(trip_to.value),\n",
    "            }\n",
    "    except AttributeError:\n",
    "        print(\"Error with triple: \", triple)"
   ]
  },
  {
   "cell_type": "code",
   "execution_count": 166,
   "metadata": {},
   "outputs": [
    {
     "data": {
      "text/html": [
       "<div>\n",
       "<style scoped>\n",
       "    .dataframe tbody tr th:only-of-type {\n",
       "        vertical-align: middle;\n",
       "    }\n",
       "\n",
       "    .dataframe tbody tr th {\n",
       "        vertical-align: top;\n",
       "    }\n",
       "\n",
       "    .dataframe thead th {\n",
       "        text-align: right;\n",
       "    }\n",
       "</style>\n",
       "<table border=\"1\" class=\"dataframe\">\n",
       "  <thead>\n",
       "    <tr style=\"text-align: right;\">\n",
       "      <th></th>\n",
       "      <th>iri_start</th>\n",
       "      <th>iri_end</th>\n",
       "    </tr>\n",
       "  </thead>\n",
       "  <tbody>\n",
       "    <tr>\n",
       "      <th>efe3ea1fdf24bf4991ed685c632596bb</th>\n",
       "      <td>http://moin-project.org/data/Bremerhaven</td>\n",
       "      <td>http://moin-project.org/data/Marl</td>\n",
       "    </tr>\n",
       "    <tr>\n",
       "      <th>b46bf39bba0d7689b9b9f928de67bd21</th>\n",
       "      <td>http://moin-project.org/data/Bremerhaven</td>\n",
       "      <td>http://moin-project.org/data/Marl</td>\n",
       "    </tr>\n",
       "    <tr>\n",
       "      <th>5fbb45c6dd306cf40e36840736a0290</th>\n",
       "      <td>http://moin-project.org/data/Bremerhaven</td>\n",
       "      <td>http://moin-project.org/data/Marl</td>\n",
       "    </tr>\n",
       "    <tr>\n",
       "      <th>5dcf820dd3623d4a7faecafe21ad8906</th>\n",
       "      <td>http://moin-project.org/data/Bremerhaven</td>\n",
       "      <td>http://moin-project.org/data/Marl</td>\n",
       "    </tr>\n",
       "    <tr>\n",
       "      <th>3757e368a3098d96a56ddd3680e31819</th>\n",
       "      <td>http://moin-project.org/data/Dortmund</td>\n",
       "      <td>http://moin-project.org/data/Karlsruhe</td>\n",
       "    </tr>\n",
       "    <tr>\n",
       "      <th>...</th>\n",
       "      <td>...</td>\n",
       "      <td>...</td>\n",
       "    </tr>\n",
       "    <tr>\n",
       "      <th>658c7cb4cf9c190c448c9b0f154e288a</th>\n",
       "      <td>http://moin-project.org/data/Chemnitz</td>\n",
       "      <td>http://moin-project.org/data/Osnabr%C3%BCck</td>\n",
       "    </tr>\n",
       "    <tr>\n",
       "      <th>4b8856e43c21db8e35cd7ac186d145d</th>\n",
       "      <td>http://moin-project.org/data/Halle%20%28Saale%29</td>\n",
       "      <td>http://moin-project.org/data/Bielefeld</td>\n",
       "    </tr>\n",
       "    <tr>\n",
       "      <th>909079ff4d7306729d009a6acf72d453</th>\n",
       "      <td>http://moin-project.org/data/Halle%20%28Saale%29</td>\n",
       "      <td>http://moin-project.org/data/Bielefeld</td>\n",
       "    </tr>\n",
       "    <tr>\n",
       "      <th>842686b28b3d3340abc3d38d0ba156c5</th>\n",
       "      <td>http://moin-project.org/data/Halle%20%28Saale%29</td>\n",
       "      <td>http://moin-project.org/data/Bielefeld</td>\n",
       "    </tr>\n",
       "    <tr>\n",
       "      <th>7ff289ce10418a0482a5f7437795c680</th>\n",
       "      <td>http://moin-project.org/data/Halle%20%28Saale%29</td>\n",
       "      <td>http://moin-project.org/data/Bielefeld</td>\n",
       "    </tr>\n",
       "  </tbody>\n",
       "</table>\n",
       "<p>40515 rows × 2 columns</p>\n",
       "</div>"
      ],
      "text/plain": [
       "                                                                         iri_start  \\\n",
       "efe3ea1fdf24bf4991ed685c632596bb          http://moin-project.org/data/Bremerhaven   \n",
       "b46bf39bba0d7689b9b9f928de67bd21          http://moin-project.org/data/Bremerhaven   \n",
       "5fbb45c6dd306cf40e36840736a0290           http://moin-project.org/data/Bremerhaven   \n",
       "5dcf820dd3623d4a7faecafe21ad8906          http://moin-project.org/data/Bremerhaven   \n",
       "3757e368a3098d96a56ddd3680e31819             http://moin-project.org/data/Dortmund   \n",
       "...                                                                            ...   \n",
       "658c7cb4cf9c190c448c9b0f154e288a             http://moin-project.org/data/Chemnitz   \n",
       "4b8856e43c21db8e35cd7ac186d145d   http://moin-project.org/data/Halle%20%28Saale%29   \n",
       "909079ff4d7306729d009a6acf72d453  http://moin-project.org/data/Halle%20%28Saale%29   \n",
       "842686b28b3d3340abc3d38d0ba156c5  http://moin-project.org/data/Halle%20%28Saale%29   \n",
       "7ff289ce10418a0482a5f7437795c680  http://moin-project.org/data/Halle%20%28Saale%29   \n",
       "\n",
       "                                                                      iri_end  \n",
       "efe3ea1fdf24bf4991ed685c632596bb            http://moin-project.org/data/Marl  \n",
       "b46bf39bba0d7689b9b9f928de67bd21            http://moin-project.org/data/Marl  \n",
       "5fbb45c6dd306cf40e36840736a0290             http://moin-project.org/data/Marl  \n",
       "5dcf820dd3623d4a7faecafe21ad8906            http://moin-project.org/data/Marl  \n",
       "3757e368a3098d96a56ddd3680e31819       http://moin-project.org/data/Karlsruhe  \n",
       "...                                                                       ...  \n",
       "658c7cb4cf9c190c448c9b0f154e288a  http://moin-project.org/data/Osnabr%C3%BCck  \n",
       "4b8856e43c21db8e35cd7ac186d145d        http://moin-project.org/data/Bielefeld  \n",
       "909079ff4d7306729d009a6acf72d453       http://moin-project.org/data/Bielefeld  \n",
       "842686b28b3d3340abc3d38d0ba156c5       http://moin-project.org/data/Bielefeld  \n",
       "7ff289ce10418a0482a5f7437795c680       http://moin-project.org/data/Bielefeld  \n",
       "\n",
       "[40515 rows x 2 columns]"
      ]
     },
     "execution_count": 166,
     "metadata": {},
     "output_type": "execute_result"
    }
   ],
   "source": [
    "df_connections = pd.DataFrame(connections).T\n",
    "df_connections"
   ]
  },
  {
   "cell_type": "markdown",
   "metadata": {},
   "source": [
    "#### (2) Find all trip properties by the trip IRI and write them to the trips  "
   ]
  },
  {
   "cell_type": "code",
   "execution_count": 167,
   "metadata": {},
   "outputs": [],
   "source": [
    "duration = graph.NamedNode(\"http://moin-project.org/ontology/duration\")\n",
    "transport_type = graph.NamedNode(\"http://moin-project.org/ontology/transportType\")\n",
    "route = graph.NamedNode(\"http://moin-project.org/ontology/route\")"
   ]
  },
  {
   "cell_type": "code",
   "execution_count": 168,
   "metadata": {},
   "outputs": [],
   "source": [
    "for triple in l:\n",
    "    try:\n",
    "        subject, predicate, object = triple.subject, triple.predicate, triple.object\n",
    "        pred_name = None\n",
    "        pred_value = None\n",
    "        if predicate in [duration, transport_type, route]:\n",
    "            trip_id = triple.subject.value\n",
    "            pred_name = triple.predicate.value\n",
    "            pred_value = triple.object.value\n",
    "            connections[trip_id][str(pred_name)] = str(pred_value)\n",
    "    except AttributeError:\n",
    "        print(\"Error with triple: \", triple)"
   ]
  },
  {
   "cell_type": "code",
   "execution_count": 169,
   "metadata": {},
   "outputs": [
    {
     "data": {
      "text/html": [
       "<div>\n",
       "<style scoped>\n",
       "    .dataframe tbody tr th:only-of-type {\n",
       "        vertical-align: middle;\n",
       "    }\n",
       "\n",
       "    .dataframe tbody tr th {\n",
       "        vertical-align: top;\n",
       "    }\n",
       "\n",
       "    .dataframe thead th {\n",
       "        text-align: right;\n",
       "    }\n",
       "</style>\n",
       "<table border=\"1\" class=\"dataframe\">\n",
       "  <thead>\n",
       "    <tr style=\"text-align: right;\">\n",
       "      <th></th>\n",
       "      <th>iri_start</th>\n",
       "      <th>iri_end</th>\n",
       "      <th>http://moin-project.org/ontology/transportType</th>\n",
       "      <th>http://moin-project.org/ontology/route</th>\n",
       "      <th>http://moin-project.org/ontology/duration</th>\n",
       "    </tr>\n",
       "  </thead>\n",
       "  <tbody>\n",
       "    <tr>\n",
       "      <th>efe3ea1fdf24bf4991ed685c632596bb</th>\n",
       "      <td>http://moin-project.org/data/Bremerhaven</td>\n",
       "      <td>http://moin-project.org/data/Marl</td>\n",
       "      <td>http://moin-project.org/ontology/car</td>\n",
       "      <td>LINESTRING(8.586580000000001 53.55175000000000...</td>\n",
       "      <td>PT9134.0S</td>\n",
       "    </tr>\n",
       "    <tr>\n",
       "      <th>b46bf39bba0d7689b9b9f928de67bd21</th>\n",
       "      <td>http://moin-project.org/data/Bremerhaven</td>\n",
       "      <td>http://moin-project.org/data/Marl</td>\n",
       "      <td>http://moin-project.org/ontology/train</td>\n",
       "      <td>NaN</td>\n",
       "      <td>PT320M</td>\n",
       "    </tr>\n",
       "    <tr>\n",
       "      <th>5fbb45c6dd306cf40e36840736a0290</th>\n",
       "      <td>http://moin-project.org/data/Bremerhaven</td>\n",
       "      <td>http://moin-project.org/data/Marl</td>\n",
       "      <td>http://moin-project.org/ontology/train</td>\n",
       "      <td>NaN</td>\n",
       "      <td>PT385M</td>\n",
       "    </tr>\n",
       "    <tr>\n",
       "      <th>5dcf820dd3623d4a7faecafe21ad8906</th>\n",
       "      <td>http://moin-project.org/data/Bremerhaven</td>\n",
       "      <td>http://moin-project.org/data/Marl</td>\n",
       "      <td>http://moin-project.org/ontology/train</td>\n",
       "      <td>NaN</td>\n",
       "      <td>PT322M</td>\n",
       "    </tr>\n",
       "    <tr>\n",
       "      <th>3757e368a3098d96a56ddd3680e31819</th>\n",
       "      <td>http://moin-project.org/data/Dortmund</td>\n",
       "      <td>http://moin-project.org/data/Karlsruhe</td>\n",
       "      <td>http://moin-project.org/ontology/car</td>\n",
       "      <td>LINESTRING(7.46417 51.51505, 7.461770000000000...</td>\n",
       "      <td>PT12015.0S</td>\n",
       "    </tr>\n",
       "    <tr>\n",
       "      <th>...</th>\n",
       "      <td>...</td>\n",
       "      <td>...</td>\n",
       "      <td>...</td>\n",
       "      <td>...</td>\n",
       "      <td>...</td>\n",
       "    </tr>\n",
       "    <tr>\n",
       "      <th>658c7cb4cf9c190c448c9b0f154e288a</th>\n",
       "      <td>http://moin-project.org/data/Chemnitz</td>\n",
       "      <td>http://moin-project.org/data/Osnabr%C3%BCck</td>\n",
       "      <td>http://moin-project.org/ontology/train</td>\n",
       "      <td>NaN</td>\n",
       "      <td>PT320M</td>\n",
       "    </tr>\n",
       "    <tr>\n",
       "      <th>4b8856e43c21db8e35cd7ac186d145d</th>\n",
       "      <td>http://moin-project.org/data/Halle%20%28Saale%29</td>\n",
       "      <td>http://moin-project.org/data/Bielefeld</td>\n",
       "      <td>http://moin-project.org/ontology/car</td>\n",
       "      <td>LINESTRING(11.970030000000001 51.4824400000000...</td>\n",
       "      <td>PT10854.0S</td>\n",
       "    </tr>\n",
       "    <tr>\n",
       "      <th>909079ff4d7306729d009a6acf72d453</th>\n",
       "      <td>http://moin-project.org/data/Halle%20%28Saale%29</td>\n",
       "      <td>http://moin-project.org/data/Bielefeld</td>\n",
       "      <td>http://moin-project.org/ontology/train</td>\n",
       "      <td>NaN</td>\n",
       "      <td>PT231M</td>\n",
       "    </tr>\n",
       "    <tr>\n",
       "      <th>842686b28b3d3340abc3d38d0ba156c5</th>\n",
       "      <td>http://moin-project.org/data/Halle%20%28Saale%29</td>\n",
       "      <td>http://moin-project.org/data/Bielefeld</td>\n",
       "      <td>http://moin-project.org/ontology/train</td>\n",
       "      <td>NaN</td>\n",
       "      <td>PT192M</td>\n",
       "    </tr>\n",
       "    <tr>\n",
       "      <th>7ff289ce10418a0482a5f7437795c680</th>\n",
       "      <td>http://moin-project.org/data/Halle%20%28Saale%29</td>\n",
       "      <td>http://moin-project.org/data/Bielefeld</td>\n",
       "      <td>http://moin-project.org/ontology/train</td>\n",
       "      <td>NaN</td>\n",
       "      <td>PT195M</td>\n",
       "    </tr>\n",
       "  </tbody>\n",
       "</table>\n",
       "<p>40515 rows × 5 columns</p>\n",
       "</div>"
      ],
      "text/plain": [
       "                                                                         iri_start  \\\n",
       "efe3ea1fdf24bf4991ed685c632596bb          http://moin-project.org/data/Bremerhaven   \n",
       "b46bf39bba0d7689b9b9f928de67bd21          http://moin-project.org/data/Bremerhaven   \n",
       "5fbb45c6dd306cf40e36840736a0290           http://moin-project.org/data/Bremerhaven   \n",
       "5dcf820dd3623d4a7faecafe21ad8906          http://moin-project.org/data/Bremerhaven   \n",
       "3757e368a3098d96a56ddd3680e31819             http://moin-project.org/data/Dortmund   \n",
       "...                                                                            ...   \n",
       "658c7cb4cf9c190c448c9b0f154e288a             http://moin-project.org/data/Chemnitz   \n",
       "4b8856e43c21db8e35cd7ac186d145d   http://moin-project.org/data/Halle%20%28Saale%29   \n",
       "909079ff4d7306729d009a6acf72d453  http://moin-project.org/data/Halle%20%28Saale%29   \n",
       "842686b28b3d3340abc3d38d0ba156c5  http://moin-project.org/data/Halle%20%28Saale%29   \n",
       "7ff289ce10418a0482a5f7437795c680  http://moin-project.org/data/Halle%20%28Saale%29   \n",
       "\n",
       "                                                                      iri_end  \\\n",
       "efe3ea1fdf24bf4991ed685c632596bb            http://moin-project.org/data/Marl   \n",
       "b46bf39bba0d7689b9b9f928de67bd21            http://moin-project.org/data/Marl   \n",
       "5fbb45c6dd306cf40e36840736a0290             http://moin-project.org/data/Marl   \n",
       "5dcf820dd3623d4a7faecafe21ad8906            http://moin-project.org/data/Marl   \n",
       "3757e368a3098d96a56ddd3680e31819       http://moin-project.org/data/Karlsruhe   \n",
       "...                                                                       ...   \n",
       "658c7cb4cf9c190c448c9b0f154e288a  http://moin-project.org/data/Osnabr%C3%BCck   \n",
       "4b8856e43c21db8e35cd7ac186d145d        http://moin-project.org/data/Bielefeld   \n",
       "909079ff4d7306729d009a6acf72d453       http://moin-project.org/data/Bielefeld   \n",
       "842686b28b3d3340abc3d38d0ba156c5       http://moin-project.org/data/Bielefeld   \n",
       "7ff289ce10418a0482a5f7437795c680       http://moin-project.org/data/Bielefeld   \n",
       "\n",
       "                                 http://moin-project.org/ontology/transportType  \\\n",
       "efe3ea1fdf24bf4991ed685c632596bb           http://moin-project.org/ontology/car   \n",
       "b46bf39bba0d7689b9b9f928de67bd21         http://moin-project.org/ontology/train   \n",
       "5fbb45c6dd306cf40e36840736a0290          http://moin-project.org/ontology/train   \n",
       "5dcf820dd3623d4a7faecafe21ad8906         http://moin-project.org/ontology/train   \n",
       "3757e368a3098d96a56ddd3680e31819           http://moin-project.org/ontology/car   \n",
       "...                                                                         ...   \n",
       "658c7cb4cf9c190c448c9b0f154e288a         http://moin-project.org/ontology/train   \n",
       "4b8856e43c21db8e35cd7ac186d145d            http://moin-project.org/ontology/car   \n",
       "909079ff4d7306729d009a6acf72d453         http://moin-project.org/ontology/train   \n",
       "842686b28b3d3340abc3d38d0ba156c5         http://moin-project.org/ontology/train   \n",
       "7ff289ce10418a0482a5f7437795c680         http://moin-project.org/ontology/train   \n",
       "\n",
       "                                             http://moin-project.org/ontology/route  \\\n",
       "efe3ea1fdf24bf4991ed685c632596bb  LINESTRING(8.586580000000001 53.55175000000000...   \n",
       "b46bf39bba0d7689b9b9f928de67bd21                                                NaN   \n",
       "5fbb45c6dd306cf40e36840736a0290                                                 NaN   \n",
       "5dcf820dd3623d4a7faecafe21ad8906                                                NaN   \n",
       "3757e368a3098d96a56ddd3680e31819  LINESTRING(7.46417 51.51505, 7.461770000000000...   \n",
       "...                                                                             ...   \n",
       "658c7cb4cf9c190c448c9b0f154e288a                                                NaN   \n",
       "4b8856e43c21db8e35cd7ac186d145d   LINESTRING(11.970030000000001 51.4824400000000...   \n",
       "909079ff4d7306729d009a6acf72d453                                                NaN   \n",
       "842686b28b3d3340abc3d38d0ba156c5                                                NaN   \n",
       "7ff289ce10418a0482a5f7437795c680                                                NaN   \n",
       "\n",
       "                                 http://moin-project.org/ontology/duration  \n",
       "efe3ea1fdf24bf4991ed685c632596bb                                 PT9134.0S  \n",
       "b46bf39bba0d7689b9b9f928de67bd21                                    PT320M  \n",
       "5fbb45c6dd306cf40e36840736a0290                                     PT385M  \n",
       "5dcf820dd3623d4a7faecafe21ad8906                                    PT322M  \n",
       "3757e368a3098d96a56ddd3680e31819                                PT12015.0S  \n",
       "...                                                                    ...  \n",
       "658c7cb4cf9c190c448c9b0f154e288a                                    PT320M  \n",
       "4b8856e43c21db8e35cd7ac186d145d                                 PT10854.0S  \n",
       "909079ff4d7306729d009a6acf72d453                                    PT231M  \n",
       "842686b28b3d3340abc3d38d0ba156c5                                    PT192M  \n",
       "7ff289ce10418a0482a5f7437795c680                                    PT195M  \n",
       "\n",
       "[40515 rows x 5 columns]"
      ]
     },
     "execution_count": 169,
     "metadata": {},
     "output_type": "execute_result"
    }
   ],
   "source": [
    "df_connections = pd.DataFrame(connections).T\n",
    "df_connections"
   ]
  },
  {
   "cell_type": "code",
   "execution_count": 170,
   "metadata": {},
   "outputs": [
    {
     "data": {
      "text/plain": [
       "http://moin-project.org/ontology/transportType\n",
       "http://moin-project.org/ontology/train     29106\n",
       "http://moin-project.org/ontology/car        9991\n",
       "http://moin-project.org/ontology/flight     1418\n",
       "Name: count, dtype: int64"
      ]
     },
     "execution_count": 170,
     "metadata": {},
     "output_type": "execute_result"
    }
   ],
   "source": [
    "df_connections[\"http://moin-project.org/ontology/transportType\"].value_counts()"
   ]
  },
  {
   "cell_type": "markdown",
   "metadata": {},
   "source": [
    "#### (3) Find the labels of start and end destination and replace IRIs with labels "
   ]
  },
  {
   "cell_type": "code",
   "execution_count": 171,
   "metadata": {},
   "outputs": [],
   "source": [
    "PREDICATE = \"http://www.w3.org/2000/01/rdf-schema#label\""
   ]
  },
  {
   "cell_type": "code",
   "execution_count": 172,
   "metadata": {},
   "outputs": [],
   "source": [
    "IRI2Label = {}"
   ]
  },
  {
   "cell_type": "code",
   "execution_count": 173,
   "metadata": {},
   "outputs": [],
   "source": [
    "result = store.query(\"SELECT ?subject ?object WHERE { ?subject <\"+PREDICATE+\"> ?object}\")\n",
    "\n",
    "for r in result:\n",
    "    IRI2Label[str(r[\"subject\"].value)] = r[\"object\"].value\n",
    "    #print(r[\"subject\"].value)\n",
    "    #print(r[\"object\"].value)"
   ]
  },
  {
   "cell_type": "code",
   "execution_count": 176,
   "metadata": {},
   "outputs": [],
   "source": [
    "def replace_with_label(iri):\n",
    "    if iri in list(IRI2Label.keys()):\n",
    "        return IRI2Label[iri]"
   ]
  },
  {
   "cell_type": "code",
   "execution_count": 178,
   "metadata": {},
   "outputs": [
    {
     "data": {
      "text/plain": [
       "efe3ea1fdf24bf4991ed685c632596bb      Bremerhaven\n",
       "b46bf39bba0d7689b9b9f928de67bd21      Bremerhaven\n",
       "5fbb45c6dd306cf40e36840736a0290       Bremerhaven\n",
       "5dcf820dd3623d4a7faecafe21ad8906      Bremerhaven\n",
       "3757e368a3098d96a56ddd3680e31819         Dortmund\n",
       "                                        ...      \n",
       "658c7cb4cf9c190c448c9b0f154e288a         Chemnitz\n",
       "4b8856e43c21db8e35cd7ac186d145d     Halle (Saale)\n",
       "909079ff4d7306729d009a6acf72d453    Halle (Saale)\n",
       "842686b28b3d3340abc3d38d0ba156c5    Halle (Saale)\n",
       "7ff289ce10418a0482a5f7437795c680    Halle (Saale)\n",
       "Name: iri_start, Length: 40515, dtype: object"
      ]
     },
     "execution_count": 178,
     "metadata": {},
     "output_type": "execute_result"
    }
   ],
   "source": [
    "df_connections[\"iri_start\"].apply(replace_with_label)"
   ]
  },
  {
   "cell_type": "code",
   "execution_count": 179,
   "metadata": {},
   "outputs": [
    {
     "data": {
      "text/plain": [
       "efe3ea1fdf24bf4991ed685c632596bb         Marl\n",
       "b46bf39bba0d7689b9b9f928de67bd21         Marl\n",
       "5fbb45c6dd306cf40e36840736a0290          Marl\n",
       "5dcf820dd3623d4a7faecafe21ad8906         Marl\n",
       "3757e368a3098d96a56ddd3680e31819    Karlsruhe\n",
       "                                      ...    \n",
       "658c7cb4cf9c190c448c9b0f154e288a    Osnabrück\n",
       "4b8856e43c21db8e35cd7ac186d145d     Bielefeld\n",
       "909079ff4d7306729d009a6acf72d453    Bielefeld\n",
       "842686b28b3d3340abc3d38d0ba156c5    Bielefeld\n",
       "7ff289ce10418a0482a5f7437795c680    Bielefeld\n",
       "Name: iri_end, Length: 40515, dtype: object"
      ]
     },
     "execution_count": 179,
     "metadata": {},
     "output_type": "execute_result"
    }
   ],
   "source": [
    "df_connections[\"iri_end\"].apply(replace_with_label)"
   ]
  },
  {
   "cell_type": "code",
   "execution_count": 180,
   "metadata": {},
   "outputs": [],
   "source": [
    "def replace_transport_iri_with_label(transport_type_iri):\n",
    "    if transport_type_iri == \"http://moin-project.org/ontology/train\":\n",
    "        return \"train\"\n",
    "    if transport_type_iri == \"http://moin-project.org/ontology/car\":\n",
    "        return \"car\"\n",
    "    if transport_type_iri == \"http://moin-project.org/ontology/flight\":\n",
    "        return \"flight\""
   ]
  },
  {
   "cell_type": "code",
   "execution_count": 183,
   "metadata": {},
   "outputs": [
    {
     "data": {
      "text/plain": [
       "efe3ea1fdf24bf4991ed685c632596bb      car\n",
       "b46bf39bba0d7689b9b9f928de67bd21    train\n",
       "5fbb45c6dd306cf40e36840736a0290     train\n",
       "5dcf820dd3623d4a7faecafe21ad8906    train\n",
       "3757e368a3098d96a56ddd3680e31819      car\n",
       "                                    ...  \n",
       "658c7cb4cf9c190c448c9b0f154e288a    train\n",
       "4b8856e43c21db8e35cd7ac186d145d       car\n",
       "909079ff4d7306729d009a6acf72d453    train\n",
       "842686b28b3d3340abc3d38d0ba156c5    train\n",
       "7ff289ce10418a0482a5f7437795c680    train\n",
       "Name: http://moin-project.org/ontology/transportType, Length: 40515, dtype: object"
      ]
     },
     "execution_count": 183,
     "metadata": {},
     "output_type": "execute_result"
    }
   ],
   "source": [
    "df_connections[\"http://moin-project.org/ontology/transportType\"].apply(replace_transport_iri_with_label)"
   ]
  },
  {
   "cell_type": "code",
   "execution_count": null,
   "metadata": {},
   "outputs": [],
   "source": []
  }
 ],
 "metadata": {
  "kernelspec": {
   "display_name": "Python 3",
   "language": "python",
   "name": "python3"
  },
  "language_info": {
   "codemirror_mode": {
    "name": "ipython",
    "version": 3
   },
   "file_extension": ".py",
   "mimetype": "text/x-python",
   "name": "python",
   "nbconvert_exporter": "python",
   "pygments_lexer": "ipython3",
   "version": "3.11.0"
  }
 },
 "nbformat": 4,
 "nbformat_minor": 0
}
