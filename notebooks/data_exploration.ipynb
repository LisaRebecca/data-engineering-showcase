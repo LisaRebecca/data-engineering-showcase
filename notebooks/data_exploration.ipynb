{
 "cells": [
  {
   "cell_type": "code",
   "execution_count": 1,
   "metadata": {},
   "outputs": [
    {
     "name": "stdout",
     "output_type": "stream",
     "text": [
      "/Users/lisaschmidt/Documents/GitHub/data-engineering-showcase\n"
     ]
    }
   ],
   "source": [
    "%cd .."
   ]
  },
  {
   "cell_type": "markdown",
   "metadata": {},
   "source": [
    "# Dataset 1"
   ]
  },
  {
   "cell_type": "markdown",
   "metadata": {},
   "source": [
    "### Downloading data"
   ]
  },
  {
   "cell_type": "code",
   "execution_count": 2,
   "metadata": {},
   "outputs": [],
   "source": [
    "from urllib.request import urlretrieve"
   ]
  },
  {
   "cell_type": "code",
   "execution_count": 3,
   "metadata": {},
   "outputs": [],
   "source": [
    "url = (\"https://mobilithek.info/mdp-api/files/aux/573356838940979200/moin-2022-05-02.1-20220502.131229-1.ttl.bz2\")\n",
    "filename = \"data/city_connections.ttl.bz2\""
   ]
  },
  {
   "cell_type": "code",
   "execution_count": 4,
   "metadata": {},
   "outputs": [
    {
     "data": {
      "text/plain": [
       "('data/city_connections.ttl.bz2', <http.client.HTTPMessage at 0x10896b7d0>)"
      ]
     },
     "execution_count": 4,
     "metadata": {},
     "output_type": "execute_result"
    }
   ],
   "source": [
    "urlretrieve(url, filename)"
   ]
  },
  {
   "cell_type": "code",
   "execution_count": 5,
   "metadata": {},
   "outputs": [],
   "source": [
    "import bz2"
   ]
  },
  {
   "cell_type": "code",
   "execution_count": 6,
   "metadata": {},
   "outputs": [
    {
     "data": {
      "text/plain": [
       "167540483"
      ]
     },
     "execution_count": 6,
     "metadata": {},
     "output_type": "execute_result"
    }
   ],
   "source": [
    "zipfile = bz2.BZ2File(filename) # open the file\n",
    "data = zipfile.read() # get the decompressed data\n",
    "newfilepath = filename[:-4] # assuming the filepath ends with .bz2\n",
    "open(newfilepath, 'wb').write(data) # write a uncompressed file"
   ]
  },
  {
   "cell_type": "code",
   "execution_count": 7,
   "metadata": {
    "collapsed": true,
    "pycharm": {
     "is_executing": true
    }
   },
   "outputs": [],
   "source": [
    "import pyoxigraph as graph\n",
    "import pandas as pd"
   ]
  },
  {
   "cell_type": "code",
   "execution_count": 8,
   "metadata": {
    "collapsed": false
   },
   "outputs": [],
   "source": [
    "l = list(graph.parse(newfilepath, \"text/turtle\", base_iri=\"http://example.com/\"))"
   ]
  },
  {
   "cell_type": "markdown",
   "metadata": {},
   "source": [
    "### An Overview of the Data Structure"
   ]
  },
  {
   "cell_type": "code",
   "execution_count": 9,
   "metadata": {},
   "outputs": [
    {
     "name": "stdout",
     "output_type": "stream",
     "text": [
      "<http://moin-project.org/data/Bremerhaven> <http://moin-project.org/ontology/connectedTo> <http://moin-project.org/data/Marl> <http://moin-project.org/ontology/hasTrip> _:9a646dd42746eda5bca4347d24270ee8\n",
      "_:9a646dd42746eda5bca4347d24270ee8 <http://moin-project.org/ontology/transportType> <http://moin-project.org/ontology/train>\n",
      "_:9a646dd42746eda5bca4347d24270ee8 <http://moin-project.org/ontology/startTime> \"10:42:00\"^^<http://www.w3.org/2001/XMLSchema#time>\n",
      "_:9a646dd42746eda5bca4347d24270ee8 <http://moin-project.org/ontology/endTime> \"16:02:00\"^^<http://www.w3.org/2001/XMLSchema#time>\n",
      "_:9a646dd42746eda5bca4347d24270ee8 <http://moin-project.org/ontology/duration> \"PT320M\"^^<http://www.w3.org/2001/XMLSchema#duration>\n",
      "<http://moin-project.org/data/Bremerhaven> <http://moin-project.org/ontology/connectedTo> <http://moin-project.org/data/Marl> <http://moin-project.org/ontology/hasTrip> _:d41001eeaf7f4bb01f680bd00890a8d9\n",
      "_:d41001eeaf7f4bb01f680bd00890a8d9 <http://moin-project.org/ontology/transportType> <http://moin-project.org/ontology/train>\n",
      "_:d41001eeaf7f4bb01f680bd00890a8d9 <http://moin-project.org/ontology/startTime> \"10:42:00\"^^<http://www.w3.org/2001/XMLSchema#time>\n",
      "_:d41001eeaf7f4bb01f680bd00890a8d9 <http://moin-project.org/ontology/endTime> \"17:07:00\"^^<http://www.w3.org/2001/XMLSchema#time>\n",
      "_:d41001eeaf7f4bb01f680bd00890a8d9 <http://moin-project.org/ontology/duration> \"PT385M\"^^<http://www.w3.org/2001/XMLSchema#duration>\n"
     ]
    }
   ],
   "source": [
    "for t in l[5:15]:\n",
    "    print( t.subject, t.predicate, t.object)"
   ]
  },
  {
   "cell_type": "markdown",
   "metadata": {},
   "source": [
    "This graph has different types of triples that are useful to us:\n",
    "\n",
    "1. A triple which describes that two cities are connected by a trip:\n",
    "\n",
    "    ```<http://moin-project.org/data/Bremerhaven> <http://moin-project.org/ontology/connectedTo> <http://moin-project.org/data/Marl> <http://moin-project.org/ontology/hasTrip> _:77af2dc5c57b5384d50fd429a6ae23e4```\n",
    "    \n",
    "    Notable is here that the subject `<http://moin-project.org/data/Bremerhaven> <http://moin-project.org/ontology/connectedTo> <http://moin-project.org/data/Marl>` is a triple itself. This \"city-connection\" is then uniquely identified through `hasTrip` to an identifier `_:77af2dc5c57b5384d50fd429a6ae23e4`.\n",
    "\n",
    "2. A triple which describes the properties of a trip (ex. transport type, travel time or distance):\n",
    "\n",
    "    ```_:77af2dc5c57b5384d50fd429a6ae23e4 <http://moin-project.org/ontology/transportType> <http://moin-project.org/ontology/train>```"
   ]
  },
  {
   "cell_type": "code",
   "execution_count": 10,
   "metadata": {},
   "outputs": [
    {
     "data": {
      "text/plain": [
       "<Triple subject=<NamedNode value=http://moin-project.org/data/Bremerhaven> predicate=<NamedNode value=http://moin-project.org/ontology/connectedTo> object=<NamedNode value=http://moin-project.org/data/Marl>>"
      ]
     },
     "execution_count": 10,
     "metadata": {},
     "output_type": "execute_result"
    }
   ],
   "source": [
    "# a connection between two cities\n",
    "l[0].subject"
   ]
  },
  {
   "cell_type": "code",
   "execution_count": 11,
   "metadata": {},
   "outputs": [
    {
     "data": {
      "text/plain": [
       "<Triple subject=<Triple subject=<NamedNode value=http://moin-project.org/data/Bremerhaven> predicate=<NamedNode value=http://moin-project.org/ontology/connectedTo> object=<NamedNode value=http://moin-project.org/data/Marl>> predicate=<NamedNode value=http://moin-project.org/ontology/hasTrip> object=<BlankNode value=d18152a12030057d83065b2d64fdce43>>"
      ]
     },
     "execution_count": 11,
     "metadata": {},
     "output_type": "execute_result"
    }
   ],
   "source": [
    "# an example of a triple which states a connection between two cities and then uniquely names them.\n",
    "l[0]"
   ]
  },
  {
   "cell_type": "code",
   "execution_count": 12,
   "metadata": {},
   "outputs": [
    {
     "name": "stdout",
     "output_type": "stream",
     "text": [
      "There are  215136  triples in the database.\n"
     ]
    }
   ],
   "source": [
    "print(\"There are \", len(l), \" triples in the database.\")"
   ]
  },
  {
   "cell_type": "code",
   "execution_count": 13,
   "metadata": {},
   "outputs": [
    {
     "name": "stdout",
     "output_type": "stream",
     "text": [
      "0 <http://moin-project.org/data/Bremerhaven> <http://moin-project.org/ontology/connectedTo> <http://moin-project.org/data/Marl>\n",
      "1 _:d18152a12030057d83065b2d64fdce43\n",
      "2 _:d18152a12030057d83065b2d64fdce43\n",
      "3 _:d18152a12030057d83065b2d64fdce43\n",
      "4 _:d18152a12030057d83065b2d64fdce43\n",
      "5 <http://moin-project.org/data/Bremerhaven> <http://moin-project.org/ontology/connectedTo> <http://moin-project.org/data/Marl>\n",
      "6 _:9a646dd42746eda5bca4347d24270ee8\n",
      "7 _:9a646dd42746eda5bca4347d24270ee8\n",
      "8 _:9a646dd42746eda5bca4347d24270ee8\n",
      "9 _:9a646dd42746eda5bca4347d24270ee8\n",
      "10 <http://moin-project.org/data/Bremerhaven> <http://moin-project.org/ontology/connectedTo> <http://moin-project.org/data/Marl>\n",
      "11 _:d41001eeaf7f4bb01f680bd00890a8d9\n",
      "12 _:d41001eeaf7f4bb01f680bd00890a8d9\n",
      "13 _:d41001eeaf7f4bb01f680bd00890a8d9\n",
      "14 _:d41001eeaf7f4bb01f680bd00890a8d9\n",
      "15 <http://moin-project.org/data/Bremerhaven> <http://moin-project.org/ontology/connectedTo> <http://moin-project.org/data/Marl>\n",
      "16 _:61ec8232c8a018afb59a839bdfcea672\n",
      "17 _:61ec8232c8a018afb59a839bdfcea672\n",
      "18 _:61ec8232c8a018afb59a839bdfcea672\n",
      "19 _:61ec8232c8a018afb59a839bdfcea672\n"
     ]
    }
   ],
   "source": [
    "connections = [t.subject for t in l]\n",
    "for i in range(20):\n",
    "    print(i, connections[i])"
   ]
  },
  {
   "cell_type": "markdown",
   "metadata": {},
   "source": [
    "We can see above that there are different options to travel between Bremerhaven and Marl. In this project, we want to compare these different travel option with a special interest in comparing travel by car to travel by train."
   ]
  },
  {
   "cell_type": "markdown",
   "metadata": {},
   "source": [
    "### Overview on the Contents of the Data"
   ]
  },
  {
   "cell_type": "code",
   "execution_count": 14,
   "metadata": {},
   "outputs": [
    {
     "data": {
      "text/plain": [
       "<http://moin-project.org/ontology/duration>               40515\n",
       "<http://moin-project.org/ontology/hasTrip>                40515\n",
       "<http://moin-project.org/ontology/transportType>          40515\n",
       "<http://moin-project.org/ontology/startTime>              30524\n",
       "<http://moin-project.org/ontology/endTime>                30461\n",
       "<http://moin-project.org/ontology/connectedTo>            10159\n",
       "<http://moin-project.org/ontology/route>                   9991\n",
       "<http://moin-project.org/ontology/drivingDistance>         9991\n",
       "<http://www.w3.org/1999/02/22-rdf-syntax-ns#type>           420\n",
       "<http://www.w3.org/2000/01/rdf-schema#label>                233\n",
       "<http://www.wikidata.org/prop/direct/P625>                  226\n",
       "<http://www.wikidata.org/prop/direct/P17>                   117\n",
       "<http://www.wikidata.org/prop/direct/P31>                   117\n",
       "<http://www.wikidata.org/prop/direct/P239>                  117\n",
       "<http://www.opengis.net/ont/geosparql#asWKT>                103\n",
       "<http://www.opengis.net/ont/geosparql#defaultGeometry>      103\n",
       "<http://www.wikidata.org/prop/direct/P94>                   102\n",
       "<http://www.wikidata.org/prop/direct/P131>                  100\n",
       "<http://www.w3.org/2002/07/owl#sameAs>                      100\n",
       "<http://schema.org/about>                                   100\n",
       "<http://www.w3.org/2000/01/rdf-schema#comment>              100\n",
       "<http://www.wikidata.org/prop/direct/P1082>                  99\n",
       "<http://www.wikidata.org/prop/direct/P856>                   99\n",
       "<http://www.wikidata.org/prop/direct/P2046>                  98\n",
       "<http://moin-project.org/ontology/nearestAirport>            95\n",
       "<http://www.wikidata.org/prop/direct/P41>                    93\n",
       "<http://www.wikidata.org/prop/direct/P238>                   43\n",
       "Name: count, dtype: int64"
      ]
     },
     "execution_count": 14,
     "metadata": {},
     "output_type": "execute_result"
    }
   ],
   "source": [
    "predicates = [t.predicate for t in l]\n",
    "pd.DataFrame(predicates).value_counts()"
   ]
  },
  {
   "cell_type": "markdown",
   "metadata": {},
   "source": [
    "The most interesting predicates for this project are the `moin-project` predicates:\n",
    "- duration\n",
    "- hasTrip\n",
    "- transportType\n",
    "- connectedTo\n",
    "- route\n",
    "\n",
    "The other `moin-project` predicates (startTime, endTime, drivingDistance, nearestAirport) are currently not relevant."
   ]
  },
  {
   "cell_type": "markdown",
   "metadata": {},
   "source": [
    "But there are other predicates, which we also should investigate. For example, the `wikidata` predicates:"
   ]
  },
  {
   "cell_type": "markdown",
   "metadata": {},
   "source": [
    "- P625 = Coordinate Information\n",
    "- P15 = country\n",
    "- P31 = instance of\n",
    "- P239 ICAO Airport Code\n",
    "- P94 = Coat of arms image\n",
    "- P131 = located in the administrative territorial entity\n",
    "- P1082 = Population\n",
    "- P856 = official website\n",
    "- P2046 = area\n",
    "- P41 = flag image\n",
    "- P238 = IATA Airport Code"
   ]
  },
  {
   "cell_type": "markdown",
   "metadata": {},
   "source": [
    "##### Now let's take a look at the remaining predicates:"
   ]
  },
  {
   "cell_type": "markdown",
   "metadata": {},
   "source": [
    "- <http://www.w3.org/1999/02/22-rdf-syntax-ns#type> \n",
    "- <http://www.w3.org/2000/01/rdf-schema#label>   \n",
    "- <http://www.w3.org/2002/07/owl#sameAs>\n",
    "- <http://www.w3.org/2000/01/rdf-schema#comment>\n",
    "\n",
    "\n",
    "- <http://schema.org/about>\n",
    "\n",
    "\n",
    "- <http://www.opengis.net/ont/geosparql#asWKT>            \n",
    "- <http://www.opengis.net/ont/geosparql#defaultGeometry>  "
   ]
  },
  {
   "cell_type": "code",
   "execution_count": 15,
   "metadata": {},
   "outputs": [],
   "source": [
    "from pyoxigraph import Store"
   ]
  },
  {
   "cell_type": "code",
   "execution_count": 16,
   "metadata": {},
   "outputs": [],
   "source": [
    "store = Store()\n",
    "store.load('./data/city_connections.ttl', mime_type=\"text/turtle\")"
   ]
  },
  {
   "cell_type": "code",
   "execution_count": 17,
   "metadata": {},
   "outputs": [],
   "source": [
    "PREDICATE = \"http://www.opengis.net/ont/geosparql#defaultGeometry\"\n",
    "\n",
    "result = store.query(\"SELECT ?s ?o WHERE { ?s <\"+PREDICATE+\"> ?o}\")"
   ]
  },
  {
   "cell_type": "code",
   "execution_count": 18,
   "metadata": {},
   "outputs": [
    {
     "data": {
      "text/plain": [
       "[<QuerySolution s=<NamedNode value=http://moin-project.org/data/Moers> o=<BlankNode value=1c73738e92301798d11a6be30c38700>>,\n",
       " <QuerySolution s=<NamedNode value=http://moin-project.org/data/Minden> o=<BlankNode value=6419ac8c77de1566f93beae2390bb5f>>,\n",
       " <QuerySolution s=<NamedNode value=http://moin-project.org/data/Pforzheim> o=<BlankNode value=bf2180e6774d61f18860db596145930>>,\n",
       " <QuerySolution s=<NamedNode value=http://moin-project.org/data/Dessau-Ro%C3%9Flau> o=<BlankNode value=c79446258a36dca960c54090c93f29f>>,\n",
       " <QuerySolution s=<NamedNode value=http://moin-project.org/data/Solingen> o=<BlankNode value=dcadc20a22f077f8994bde1f4cf29f9>>,\n",
       " <QuerySolution s=<NamedNode value=http://moin-project.org/data/W%C3%BCrzburg> o=<BlankNode value=f8cf675e192fbe43555861e707412e9>>,\n",
       " <QuerySolution s=<NamedNode value=http://moin-project.org/data/Frankfurt%20am%20Main> o=<BlankNode value=119f0f3867cb88df0112732c5552ecc7>>,\n",
       " <QuerySolution s=<NamedNode value=http://moin-project.org/data/Sterkrade> o=<BlankNode value=17c2dd0f6a3ad26df9b3741ba52af468>>,\n",
       " <QuerySolution s=<NamedNode value=http://moin-project.org/data/N%C3%BCrnberg> o=<BlankNode value=18fc51becb873b0c54889721863714b2>>,\n",
       " <QuerySolution s=<NamedNode value=http://moin-project.org/data/Leverkusen> o=<BlankNode value=1969c79267e4734aa4c9a3111ef7ad6d>>]"
      ]
     },
     "execution_count": 18,
     "metadata": {},
     "output_type": "execute_result"
    }
   ],
   "source": [
    "[s for s in result][:10]"
   ]
  },
  {
   "cell_type": "markdown",
   "metadata": {},
   "source": [
    "- <http://www.w3.org/1999/02/22-rdf-syntax-ns#type>     \n",
    "    The type of an object, for example if it is an Airport\n",
    "- <http://www.w3.org/2000/01/rdf-schema#label>   \n",
    "    This predicate relates an IRI to a literal, for example the IRI of a city to the city's name.\n",
    "- <http://www.w3.org/2002/07/owl#sameAs>    \n",
    "    The different IRIs of the same object are related through this predicate.\n",
    "- <http://www.w3.org/2000/01/rdf-schema#comment>    \n",
    "    The comment field contains a short description of different cities.\n",
    "- <http://schema.org/about>      \n",
    "    This relation links a city's wikipedia article to the IRI.\n",
    "- <http://www.opengis.net/ont/geosparql#asWKT>      \n",
    "    The WKT-Literal contains the coordinates of an object.        \n",
    "- <http://www.opengis.net/ont/geosparql#defaultGeometry>    \n",
    "    This predicate connects a city's IRI to an object (see above)."
   ]
  },
  {
   "cell_type": "markdown",
   "metadata": {},
   "source": [
    "## A Plan for bringing the Data into the desired Format"
   ]
  },
  {
   "cell_type": "markdown",
   "metadata": {},
   "source": [
    "### Requirements:\n",
    "- One Table with all **trips as primary key**\n",
    "- Columns: \n",
    "    - duration\n",
    "    - hasTrip\n",
    "    - transportType\n",
    "    - connectedTo\n",
    "    - route"
   ]
  },
  {
   "cell_type": "markdown",
   "metadata": {},
   "source": [
    "### Approach\n",
    "1. Read all trips into a structure and match them with start IRI and destination IRI\n",
    "\n",
    "2. Find all trip properties by the trip IRI and write them to the trips  \n",
    "\n",
    "3. Find the labels of start and end destination and replace IRIs with labels \n"
   ]
  },
  {
   "cell_type": "markdown",
   "metadata": {},
   "source": [
    "## Data Transformations"
   ]
  },
  {
   "cell_type": "code",
   "execution_count": 19,
   "metadata": {},
   "outputs": [
    {
     "data": {
      "text/plain": [
       "pyoxigraph.NamedNode"
      ]
     },
     "execution_count": 19,
     "metadata": {},
     "output_type": "execute_result"
    }
   ],
   "source": [
    "type(l[0].subject.predicate)"
   ]
  },
  {
   "cell_type": "code",
   "execution_count": 20,
   "metadata": {},
   "outputs": [],
   "source": [
    "connected_to = graph.NamedNode(\"http://moin-project.org/ontology/connectedTo\")\n",
    "has_trip = graph.NamedNode(\"http://moin-project.org/ontology/hasTrip\")"
   ]
  },
  {
   "cell_type": "code",
   "execution_count": 21,
   "metadata": {},
   "outputs": [],
   "source": [
    "#PREDICATE = \"http://moin-project.org/ontology/connectedTo\"\n",
    "PREDICATE = \"http://moin-project.org/ontology/hasTrip\"\n",
    "\n",
    "result = store.query(\"SELECT ?s ?o WHERE { ?s <\"+PREDICATE+\"> ?o}\")"
   ]
  },
  {
   "cell_type": "markdown",
   "metadata": {},
   "source": [
    "#### (1) Read all trips into a structure and match them with start IRI and destination IRI"
   ]
  },
  {
   "cell_type": "code",
   "execution_count": 22,
   "metadata": {},
   "outputs": [],
   "source": [
    "connections = {}\n",
    "for triple in l:\n",
    "    try:\n",
    "        subject, predicate, object = triple.subject, triple.predicate, triple.object\n",
    "        if predicate == has_trip: #subject.predicate == connected_to and \n",
    "            trip_from = subject.subject\n",
    "            trip_to = subject.object\n",
    "            trip_id = triple.object\n",
    "            connections[trip_id.value] = {\n",
    "                \"iri_start\": str(trip_from.value),\n",
    "                \"iri_end\": str(trip_to.value),\n",
    "            }\n",
    "    except AttributeError:\n",
    "        print(\"Error with triple: \", triple)"
   ]
  },
  {
   "cell_type": "code",
   "execution_count": 23,
   "metadata": {},
   "outputs": [
    {
     "data": {
      "text/html": [
       "<div>\n",
       "<style scoped>\n",
       "    .dataframe tbody tr th:only-of-type {\n",
       "        vertical-align: middle;\n",
       "    }\n",
       "\n",
       "    .dataframe tbody tr th {\n",
       "        vertical-align: top;\n",
       "    }\n",
       "\n",
       "    .dataframe thead th {\n",
       "        text-align: right;\n",
       "    }\n",
       "</style>\n",
       "<table border=\"1\" class=\"dataframe\">\n",
       "  <thead>\n",
       "    <tr style=\"text-align: right;\">\n",
       "      <th></th>\n",
       "      <th>iri_start</th>\n",
       "      <th>iri_end</th>\n",
       "    </tr>\n",
       "  </thead>\n",
       "  <tbody>\n",
       "    <tr>\n",
       "      <th>d18152a12030057d83065b2d64fdce43</th>\n",
       "      <td>http://moin-project.org/data/Bremerhaven</td>\n",
       "      <td>http://moin-project.org/data/Marl</td>\n",
       "    </tr>\n",
       "    <tr>\n",
       "      <th>9a646dd42746eda5bca4347d24270ee8</th>\n",
       "      <td>http://moin-project.org/data/Bremerhaven</td>\n",
       "      <td>http://moin-project.org/data/Marl</td>\n",
       "    </tr>\n",
       "    <tr>\n",
       "      <th>d41001eeaf7f4bb01f680bd00890a8d9</th>\n",
       "      <td>http://moin-project.org/data/Bremerhaven</td>\n",
       "      <td>http://moin-project.org/data/Marl</td>\n",
       "    </tr>\n",
       "    <tr>\n",
       "      <th>61ec8232c8a018afb59a839bdfcea672</th>\n",
       "      <td>http://moin-project.org/data/Bremerhaven</td>\n",
       "      <td>http://moin-project.org/data/Marl</td>\n",
       "    </tr>\n",
       "    <tr>\n",
       "      <th>52f39a963fa14381183c854d8c280c54</th>\n",
       "      <td>http://moin-project.org/data/Dortmund</td>\n",
       "      <td>http://moin-project.org/data/Karlsruhe</td>\n",
       "    </tr>\n",
       "    <tr>\n",
       "      <th>...</th>\n",
       "      <td>...</td>\n",
       "      <td>...</td>\n",
       "    </tr>\n",
       "    <tr>\n",
       "      <th>b21de08ef1c7981ec4493c55c857102a</th>\n",
       "      <td>http://moin-project.org/data/Chemnitz</td>\n",
       "      <td>http://moin-project.org/data/Osnabr%C3%BCck</td>\n",
       "    </tr>\n",
       "    <tr>\n",
       "      <th>a0fc7c80a605478616051b3931f233cc</th>\n",
       "      <td>http://moin-project.org/data/Halle%20%28Saale%29</td>\n",
       "      <td>http://moin-project.org/data/Bielefeld</td>\n",
       "    </tr>\n",
       "    <tr>\n",
       "      <th>8fb712ec320d5e1598a050b1285e4074</th>\n",
       "      <td>http://moin-project.org/data/Halle%20%28Saale%29</td>\n",
       "      <td>http://moin-project.org/data/Bielefeld</td>\n",
       "    </tr>\n",
       "    <tr>\n",
       "      <th>e544d69fa55592081dc597ecd64883d1</th>\n",
       "      <td>http://moin-project.org/data/Halle%20%28Saale%29</td>\n",
       "      <td>http://moin-project.org/data/Bielefeld</td>\n",
       "    </tr>\n",
       "    <tr>\n",
       "      <th>b1d5286589ca7826c25db28275a6ecc2</th>\n",
       "      <td>http://moin-project.org/data/Halle%20%28Saale%29</td>\n",
       "      <td>http://moin-project.org/data/Bielefeld</td>\n",
       "    </tr>\n",
       "  </tbody>\n",
       "</table>\n",
       "<p>40515 rows × 2 columns</p>\n",
       "</div>"
      ],
      "text/plain": [
       "                                                                         iri_start  \\\n",
       "d18152a12030057d83065b2d64fdce43          http://moin-project.org/data/Bremerhaven   \n",
       "9a646dd42746eda5bca4347d24270ee8          http://moin-project.org/data/Bremerhaven   \n",
       "d41001eeaf7f4bb01f680bd00890a8d9          http://moin-project.org/data/Bremerhaven   \n",
       "61ec8232c8a018afb59a839bdfcea672          http://moin-project.org/data/Bremerhaven   \n",
       "52f39a963fa14381183c854d8c280c54             http://moin-project.org/data/Dortmund   \n",
       "...                                                                            ...   \n",
       "b21de08ef1c7981ec4493c55c857102a             http://moin-project.org/data/Chemnitz   \n",
       "a0fc7c80a605478616051b3931f233cc  http://moin-project.org/data/Halle%20%28Saale%29   \n",
       "8fb712ec320d5e1598a050b1285e4074  http://moin-project.org/data/Halle%20%28Saale%29   \n",
       "e544d69fa55592081dc597ecd64883d1  http://moin-project.org/data/Halle%20%28Saale%29   \n",
       "b1d5286589ca7826c25db28275a6ecc2  http://moin-project.org/data/Halle%20%28Saale%29   \n",
       "\n",
       "                                                                      iri_end  \n",
       "d18152a12030057d83065b2d64fdce43            http://moin-project.org/data/Marl  \n",
       "9a646dd42746eda5bca4347d24270ee8            http://moin-project.org/data/Marl  \n",
       "d41001eeaf7f4bb01f680bd00890a8d9            http://moin-project.org/data/Marl  \n",
       "61ec8232c8a018afb59a839bdfcea672            http://moin-project.org/data/Marl  \n",
       "52f39a963fa14381183c854d8c280c54       http://moin-project.org/data/Karlsruhe  \n",
       "...                                                                       ...  \n",
       "b21de08ef1c7981ec4493c55c857102a  http://moin-project.org/data/Osnabr%C3%BCck  \n",
       "a0fc7c80a605478616051b3931f233cc       http://moin-project.org/data/Bielefeld  \n",
       "8fb712ec320d5e1598a050b1285e4074       http://moin-project.org/data/Bielefeld  \n",
       "e544d69fa55592081dc597ecd64883d1       http://moin-project.org/data/Bielefeld  \n",
       "b1d5286589ca7826c25db28275a6ecc2       http://moin-project.org/data/Bielefeld  \n",
       "\n",
       "[40515 rows x 2 columns]"
      ]
     },
     "execution_count": 23,
     "metadata": {},
     "output_type": "execute_result"
    }
   ],
   "source": [
    "df_connections = pd.DataFrame(connections).T\n",
    "df_connections"
   ]
  },
  {
   "cell_type": "markdown",
   "metadata": {},
   "source": [
    "#### (2) Find all trip properties by the trip IRI and write them to the trips  "
   ]
  },
  {
   "cell_type": "code",
   "execution_count": 24,
   "metadata": {},
   "outputs": [],
   "source": [
    "duration = graph.NamedNode(\"http://moin-project.org/ontology/duration\")\n",
    "transport_type = graph.NamedNode(\"http://moin-project.org/ontology/transportType\")\n",
    "route = graph.NamedNode(\"http://moin-project.org/ontology/route\")\n",
    "drivingDistance = graph.NamedNode(\"http://moin-project.org/ontology/drivingDistance\")"
   ]
  },
  {
   "cell_type": "code",
   "execution_count": 25,
   "metadata": {},
   "outputs": [],
   "source": [
    "for triple in l:\n",
    "    try:\n",
    "        subject, predicate, object = triple.subject, triple.predicate, triple.object\n",
    "        pred_name = None\n",
    "        pred_value = None\n",
    "        if predicate in [duration, transport_type, route, drivingDistance]:\n",
    "            trip_id = triple.subject.value\n",
    "            pred_name = triple.predicate.value\n",
    "            pred_value = triple.object.value\n",
    "            connections[trip_id][str(pred_name)] = str(pred_value)\n",
    "    except AttributeError:\n",
    "        print(\"Error with triple: \", triple)"
   ]
  },
  {
   "cell_type": "code",
   "execution_count": 26,
   "metadata": {},
   "outputs": [
    {
     "data": {
      "text/html": [
       "<div>\n",
       "<style scoped>\n",
       "    .dataframe tbody tr th:only-of-type {\n",
       "        vertical-align: middle;\n",
       "    }\n",
       "\n",
       "    .dataframe tbody tr th {\n",
       "        vertical-align: top;\n",
       "    }\n",
       "\n",
       "    .dataframe thead th {\n",
       "        text-align: right;\n",
       "    }\n",
       "</style>\n",
       "<table border=\"1\" class=\"dataframe\">\n",
       "  <thead>\n",
       "    <tr style=\"text-align: right;\">\n",
       "      <th></th>\n",
       "      <th>iri_start</th>\n",
       "      <th>iri_end</th>\n",
       "      <th>http://moin-project.org/ontology/transportType</th>\n",
       "      <th>http://moin-project.org/ontology/route</th>\n",
       "      <th>http://moin-project.org/ontology/duration</th>\n",
       "      <th>http://moin-project.org/ontology/drivingDistance</th>\n",
       "    </tr>\n",
       "  </thead>\n",
       "  <tbody>\n",
       "    <tr>\n",
       "      <th>d18152a12030057d83065b2d64fdce43</th>\n",
       "      <td>http://moin-project.org/data/Bremerhaven</td>\n",
       "      <td>http://moin-project.org/data/Marl</td>\n",
       "      <td>http://moin-project.org/ontology/car</td>\n",
       "      <td>LINESTRING(8.586580000000001 53.55175000000000...</td>\n",
       "      <td>PT9134.0S</td>\n",
       "      <td>288831.37934856815e0</td>\n",
       "    </tr>\n",
       "    <tr>\n",
       "      <th>9a646dd42746eda5bca4347d24270ee8</th>\n",
       "      <td>http://moin-project.org/data/Bremerhaven</td>\n",
       "      <td>http://moin-project.org/data/Marl</td>\n",
       "      <td>http://moin-project.org/ontology/train</td>\n",
       "      <td>NaN</td>\n",
       "      <td>PT320M</td>\n",
       "      <td>NaN</td>\n",
       "    </tr>\n",
       "    <tr>\n",
       "      <th>d41001eeaf7f4bb01f680bd00890a8d9</th>\n",
       "      <td>http://moin-project.org/data/Bremerhaven</td>\n",
       "      <td>http://moin-project.org/data/Marl</td>\n",
       "      <td>http://moin-project.org/ontology/train</td>\n",
       "      <td>NaN</td>\n",
       "      <td>PT385M</td>\n",
       "      <td>NaN</td>\n",
       "    </tr>\n",
       "    <tr>\n",
       "      <th>61ec8232c8a018afb59a839bdfcea672</th>\n",
       "      <td>http://moin-project.org/data/Bremerhaven</td>\n",
       "      <td>http://moin-project.org/data/Marl</td>\n",
       "      <td>http://moin-project.org/ontology/train</td>\n",
       "      <td>NaN</td>\n",
       "      <td>PT322M</td>\n",
       "      <td>NaN</td>\n",
       "    </tr>\n",
       "    <tr>\n",
       "      <th>52f39a963fa14381183c854d8c280c54</th>\n",
       "      <td>http://moin-project.org/data/Dortmund</td>\n",
       "      <td>http://moin-project.org/data/Karlsruhe</td>\n",
       "      <td>http://moin-project.org/ontology/car</td>\n",
       "      <td>LINESTRING(7.46417 51.51505, 7.461770000000000...</td>\n",
       "      <td>PT12015.0S</td>\n",
       "      <td>355366.2358930178e0</td>\n",
       "    </tr>\n",
       "    <tr>\n",
       "      <th>...</th>\n",
       "      <td>...</td>\n",
       "      <td>...</td>\n",
       "      <td>...</td>\n",
       "      <td>...</td>\n",
       "      <td>...</td>\n",
       "      <td>...</td>\n",
       "    </tr>\n",
       "    <tr>\n",
       "      <th>b21de08ef1c7981ec4493c55c857102a</th>\n",
       "      <td>http://moin-project.org/data/Chemnitz</td>\n",
       "      <td>http://moin-project.org/data/Osnabr%C3%BCck</td>\n",
       "      <td>http://moin-project.org/ontology/train</td>\n",
       "      <td>NaN</td>\n",
       "      <td>PT320M</td>\n",
       "      <td>NaN</td>\n",
       "    </tr>\n",
       "    <tr>\n",
       "      <th>a0fc7c80a605478616051b3931f233cc</th>\n",
       "      <td>http://moin-project.org/data/Halle%20%28Saale%29</td>\n",
       "      <td>http://moin-project.org/data/Bielefeld</td>\n",
       "      <td>http://moin-project.org/ontology/car</td>\n",
       "      <td>LINESTRING(11.970030000000001 51.4824400000000...</td>\n",
       "      <td>PT10854.0S</td>\n",
       "      <td>344566.4962791281e0</td>\n",
       "    </tr>\n",
       "    <tr>\n",
       "      <th>8fb712ec320d5e1598a050b1285e4074</th>\n",
       "      <td>http://moin-project.org/data/Halle%20%28Saale%29</td>\n",
       "      <td>http://moin-project.org/data/Bielefeld</td>\n",
       "      <td>http://moin-project.org/ontology/train</td>\n",
       "      <td>NaN</td>\n",
       "      <td>PT231M</td>\n",
       "      <td>NaN</td>\n",
       "    </tr>\n",
       "    <tr>\n",
       "      <th>e544d69fa55592081dc597ecd64883d1</th>\n",
       "      <td>http://moin-project.org/data/Halle%20%28Saale%29</td>\n",
       "      <td>http://moin-project.org/data/Bielefeld</td>\n",
       "      <td>http://moin-project.org/ontology/train</td>\n",
       "      <td>NaN</td>\n",
       "      <td>PT192M</td>\n",
       "      <td>NaN</td>\n",
       "    </tr>\n",
       "    <tr>\n",
       "      <th>b1d5286589ca7826c25db28275a6ecc2</th>\n",
       "      <td>http://moin-project.org/data/Halle%20%28Saale%29</td>\n",
       "      <td>http://moin-project.org/data/Bielefeld</td>\n",
       "      <td>http://moin-project.org/ontology/train</td>\n",
       "      <td>NaN</td>\n",
       "      <td>PT195M</td>\n",
       "      <td>NaN</td>\n",
       "    </tr>\n",
       "  </tbody>\n",
       "</table>\n",
       "<p>40515 rows × 6 columns</p>\n",
       "</div>"
      ],
      "text/plain": [
       "                                                                         iri_start  \\\n",
       "d18152a12030057d83065b2d64fdce43          http://moin-project.org/data/Bremerhaven   \n",
       "9a646dd42746eda5bca4347d24270ee8          http://moin-project.org/data/Bremerhaven   \n",
       "d41001eeaf7f4bb01f680bd00890a8d9          http://moin-project.org/data/Bremerhaven   \n",
       "61ec8232c8a018afb59a839bdfcea672          http://moin-project.org/data/Bremerhaven   \n",
       "52f39a963fa14381183c854d8c280c54             http://moin-project.org/data/Dortmund   \n",
       "...                                                                            ...   \n",
       "b21de08ef1c7981ec4493c55c857102a             http://moin-project.org/data/Chemnitz   \n",
       "a0fc7c80a605478616051b3931f233cc  http://moin-project.org/data/Halle%20%28Saale%29   \n",
       "8fb712ec320d5e1598a050b1285e4074  http://moin-project.org/data/Halle%20%28Saale%29   \n",
       "e544d69fa55592081dc597ecd64883d1  http://moin-project.org/data/Halle%20%28Saale%29   \n",
       "b1d5286589ca7826c25db28275a6ecc2  http://moin-project.org/data/Halle%20%28Saale%29   \n",
       "\n",
       "                                                                      iri_end  \\\n",
       "d18152a12030057d83065b2d64fdce43            http://moin-project.org/data/Marl   \n",
       "9a646dd42746eda5bca4347d24270ee8            http://moin-project.org/data/Marl   \n",
       "d41001eeaf7f4bb01f680bd00890a8d9            http://moin-project.org/data/Marl   \n",
       "61ec8232c8a018afb59a839bdfcea672            http://moin-project.org/data/Marl   \n",
       "52f39a963fa14381183c854d8c280c54       http://moin-project.org/data/Karlsruhe   \n",
       "...                                                                       ...   \n",
       "b21de08ef1c7981ec4493c55c857102a  http://moin-project.org/data/Osnabr%C3%BCck   \n",
       "a0fc7c80a605478616051b3931f233cc       http://moin-project.org/data/Bielefeld   \n",
       "8fb712ec320d5e1598a050b1285e4074       http://moin-project.org/data/Bielefeld   \n",
       "e544d69fa55592081dc597ecd64883d1       http://moin-project.org/data/Bielefeld   \n",
       "b1d5286589ca7826c25db28275a6ecc2       http://moin-project.org/data/Bielefeld   \n",
       "\n",
       "                                 http://moin-project.org/ontology/transportType  \\\n",
       "d18152a12030057d83065b2d64fdce43           http://moin-project.org/ontology/car   \n",
       "9a646dd42746eda5bca4347d24270ee8         http://moin-project.org/ontology/train   \n",
       "d41001eeaf7f4bb01f680bd00890a8d9         http://moin-project.org/ontology/train   \n",
       "61ec8232c8a018afb59a839bdfcea672         http://moin-project.org/ontology/train   \n",
       "52f39a963fa14381183c854d8c280c54           http://moin-project.org/ontology/car   \n",
       "...                                                                         ...   \n",
       "b21de08ef1c7981ec4493c55c857102a         http://moin-project.org/ontology/train   \n",
       "a0fc7c80a605478616051b3931f233cc           http://moin-project.org/ontology/car   \n",
       "8fb712ec320d5e1598a050b1285e4074         http://moin-project.org/ontology/train   \n",
       "e544d69fa55592081dc597ecd64883d1         http://moin-project.org/ontology/train   \n",
       "b1d5286589ca7826c25db28275a6ecc2         http://moin-project.org/ontology/train   \n",
       "\n",
       "                                             http://moin-project.org/ontology/route  \\\n",
       "d18152a12030057d83065b2d64fdce43  LINESTRING(8.586580000000001 53.55175000000000...   \n",
       "9a646dd42746eda5bca4347d24270ee8                                                NaN   \n",
       "d41001eeaf7f4bb01f680bd00890a8d9                                                NaN   \n",
       "61ec8232c8a018afb59a839bdfcea672                                                NaN   \n",
       "52f39a963fa14381183c854d8c280c54  LINESTRING(7.46417 51.51505, 7.461770000000000...   \n",
       "...                                                                             ...   \n",
       "b21de08ef1c7981ec4493c55c857102a                                                NaN   \n",
       "a0fc7c80a605478616051b3931f233cc  LINESTRING(11.970030000000001 51.4824400000000...   \n",
       "8fb712ec320d5e1598a050b1285e4074                                                NaN   \n",
       "e544d69fa55592081dc597ecd64883d1                                                NaN   \n",
       "b1d5286589ca7826c25db28275a6ecc2                                                NaN   \n",
       "\n",
       "                                 http://moin-project.org/ontology/duration  \\\n",
       "d18152a12030057d83065b2d64fdce43                                 PT9134.0S   \n",
       "9a646dd42746eda5bca4347d24270ee8                                    PT320M   \n",
       "d41001eeaf7f4bb01f680bd00890a8d9                                    PT385M   \n",
       "61ec8232c8a018afb59a839bdfcea672                                    PT322M   \n",
       "52f39a963fa14381183c854d8c280c54                                PT12015.0S   \n",
       "...                                                                    ...   \n",
       "b21de08ef1c7981ec4493c55c857102a                                    PT320M   \n",
       "a0fc7c80a605478616051b3931f233cc                                PT10854.0S   \n",
       "8fb712ec320d5e1598a050b1285e4074                                    PT231M   \n",
       "e544d69fa55592081dc597ecd64883d1                                    PT192M   \n",
       "b1d5286589ca7826c25db28275a6ecc2                                    PT195M   \n",
       "\n",
       "                                 http://moin-project.org/ontology/drivingDistance  \n",
       "d18152a12030057d83065b2d64fdce43                             288831.37934856815e0  \n",
       "9a646dd42746eda5bca4347d24270ee8                                              NaN  \n",
       "d41001eeaf7f4bb01f680bd00890a8d9                                              NaN  \n",
       "61ec8232c8a018afb59a839bdfcea672                                              NaN  \n",
       "52f39a963fa14381183c854d8c280c54                              355366.2358930178e0  \n",
       "...                                                                           ...  \n",
       "b21de08ef1c7981ec4493c55c857102a                                              NaN  \n",
       "a0fc7c80a605478616051b3931f233cc                              344566.4962791281e0  \n",
       "8fb712ec320d5e1598a050b1285e4074                                              NaN  \n",
       "e544d69fa55592081dc597ecd64883d1                                              NaN  \n",
       "b1d5286589ca7826c25db28275a6ecc2                                              NaN  \n",
       "\n",
       "[40515 rows x 6 columns]"
      ]
     },
     "execution_count": 26,
     "metadata": {},
     "output_type": "execute_result"
    }
   ],
   "source": [
    "df_connections = pd.DataFrame(connections).T\n",
    "df_connections"
   ]
  },
  {
   "cell_type": "code",
   "execution_count": 27,
   "metadata": {},
   "outputs": [
    {
     "data": {
      "text/plain": [
       "http://moin-project.org/ontology/transportType\n",
       "http://moin-project.org/ontology/train     29106\n",
       "http://moin-project.org/ontology/car        9991\n",
       "http://moin-project.org/ontology/flight     1418\n",
       "Name: count, dtype: int64"
      ]
     },
     "execution_count": 27,
     "metadata": {},
     "output_type": "execute_result"
    }
   ],
   "source": [
    "df_connections[\"http://moin-project.org/ontology/transportType\"].value_counts()"
   ]
  },
  {
   "cell_type": "markdown",
   "metadata": {},
   "source": [
    "#### (3) Find the labels of start and end destination and replace IRIs with labels "
   ]
  },
  {
   "cell_type": "code",
   "execution_count": 28,
   "metadata": {},
   "outputs": [],
   "source": [
    "PREDICATE = \"http://www.w3.org/2000/01/rdf-schema#label\""
   ]
  },
  {
   "cell_type": "code",
   "execution_count": 29,
   "metadata": {},
   "outputs": [],
   "source": [
    "IRI2Label = {}"
   ]
  },
  {
   "cell_type": "code",
   "execution_count": 30,
   "metadata": {},
   "outputs": [],
   "source": [
    "result = store.query(\"SELECT ?subject ?object WHERE { ?subject <\"+PREDICATE+\"> ?object}\")\n",
    "\n",
    "for r in result:\n",
    "    IRI2Label[str(r[\"subject\"].value)] = r[\"object\"].value\n",
    "    #print(r[\"subject\"].value)\n",
    "    #print(r[\"object\"].value)"
   ]
  },
  {
   "cell_type": "code",
   "execution_count": 31,
   "metadata": {},
   "outputs": [],
   "source": [
    "def replace_with_label(iri):\n",
    "    if iri in list(IRI2Label.keys()):\n",
    "        return IRI2Label[iri]"
   ]
  },
  {
   "cell_type": "code",
   "execution_count": 32,
   "metadata": {},
   "outputs": [
    {
     "data": {
      "text/plain": [
       "d18152a12030057d83065b2d64fdce43      Bremerhaven\n",
       "9a646dd42746eda5bca4347d24270ee8      Bremerhaven\n",
       "d41001eeaf7f4bb01f680bd00890a8d9      Bremerhaven\n",
       "61ec8232c8a018afb59a839bdfcea672      Bremerhaven\n",
       "52f39a963fa14381183c854d8c280c54         Dortmund\n",
       "                                        ...      \n",
       "b21de08ef1c7981ec4493c55c857102a         Chemnitz\n",
       "a0fc7c80a605478616051b3931f233cc    Halle (Saale)\n",
       "8fb712ec320d5e1598a050b1285e4074    Halle (Saale)\n",
       "e544d69fa55592081dc597ecd64883d1    Halle (Saale)\n",
       "b1d5286589ca7826c25db28275a6ecc2    Halle (Saale)\n",
       "Name: iri_start, Length: 40515, dtype: object"
      ]
     },
     "execution_count": 32,
     "metadata": {},
     "output_type": "execute_result"
    }
   ],
   "source": [
    "df_connections[\"iri_start\"].apply(replace_with_label)"
   ]
  },
  {
   "cell_type": "code",
   "execution_count": 33,
   "metadata": {},
   "outputs": [
    {
     "data": {
      "text/plain": [
       "d18152a12030057d83065b2d64fdce43         Marl\n",
       "9a646dd42746eda5bca4347d24270ee8         Marl\n",
       "d41001eeaf7f4bb01f680bd00890a8d9         Marl\n",
       "61ec8232c8a018afb59a839bdfcea672         Marl\n",
       "52f39a963fa14381183c854d8c280c54    Karlsruhe\n",
       "                                      ...    \n",
       "b21de08ef1c7981ec4493c55c857102a    Osnabrück\n",
       "a0fc7c80a605478616051b3931f233cc    Bielefeld\n",
       "8fb712ec320d5e1598a050b1285e4074    Bielefeld\n",
       "e544d69fa55592081dc597ecd64883d1    Bielefeld\n",
       "b1d5286589ca7826c25db28275a6ecc2    Bielefeld\n",
       "Name: iri_end, Length: 40515, dtype: object"
      ]
     },
     "execution_count": 33,
     "metadata": {},
     "output_type": "execute_result"
    }
   ],
   "source": [
    "df_connections[\"iri_end\"].apply(replace_with_label)"
   ]
  },
  {
   "cell_type": "code",
   "execution_count": 34,
   "metadata": {},
   "outputs": [],
   "source": [
    "def replace_transport_iri_with_label(transport_type_iri):\n",
    "    if transport_type_iri == \"http://moin-project.org/ontology/train\":\n",
    "        return \"train\"\n",
    "    if transport_type_iri == \"http://moin-project.org/ontology/car\":\n",
    "        return \"car\"\n",
    "    if transport_type_iri == \"http://moin-project.org/ontology/flight\":\n",
    "        return \"flight\""
   ]
  },
  {
   "cell_type": "code",
   "execution_count": 35,
   "metadata": {},
   "outputs": [
    {
     "data": {
      "text/plain": [
       "d18152a12030057d83065b2d64fdce43      car\n",
       "9a646dd42746eda5bca4347d24270ee8    train\n",
       "d41001eeaf7f4bb01f680bd00890a8d9    train\n",
       "61ec8232c8a018afb59a839bdfcea672    train\n",
       "52f39a963fa14381183c854d8c280c54      car\n",
       "                                    ...  \n",
       "b21de08ef1c7981ec4493c55c857102a    train\n",
       "a0fc7c80a605478616051b3931f233cc      car\n",
       "8fb712ec320d5e1598a050b1285e4074    train\n",
       "e544d69fa55592081dc597ecd64883d1    train\n",
       "b1d5286589ca7826c25db28275a6ecc2    train\n",
       "Name: http://moin-project.org/ontology/transportType, Length: 40515, dtype: object"
      ]
     },
     "execution_count": 35,
     "metadata": {},
     "output_type": "execute_result"
    }
   ],
   "source": [
    "df_connections[\"http://moin-project.org/ontology/transportType\"].apply(replace_transport_iri_with_label)"
   ]
  }
 ],
 "metadata": {
  "kernelspec": {
   "display_name": "Python 3",
   "language": "python",
   "name": "python3"
  },
  "language_info": {
   "codemirror_mode": {
    "name": "ipython",
    "version": 3
   },
   "file_extension": ".py",
   "mimetype": "text/x-python",
   "name": "python",
   "nbconvert_exporter": "python",
   "pygments_lexer": "ipython3",
   "version": "3.11.0"
  }
 },
 "nbformat": 4,
 "nbformat_minor": 0
}
